{
 "cells": [
  {
   "cell_type": "code",
   "execution_count": 1,
   "id": "a9030480",
   "metadata": {
    "ExecuteTime": {
     "end_time": "2023-12-25T06:47:13.499420400Z",
     "start_time": "2023-12-25T06:47:11.649407200Z"
    }
   },
   "outputs": [],
   "source": [
    "import numpy as np\n",
    "import torch\n",
    "from matplotlib import pyplot as plt\n",
    "import random"
   ]
  },
  {
   "cell_type": "code",
   "execution_count": 2,
   "id": "759d3d450ddc9ed4",
   "metadata": {
    "ExecuteTime": {
     "end_time": "2023-12-25T06:47:13.505724800Z",
     "start_time": "2023-12-25T06:47:13.500412Z"
    },
    "collapsed": false
   },
   "outputs": [],
   "source": [
    "def set_seed(seed):\n",
    "    random.seed(seed)\n",
    "    np.random.seed(seed)\n",
    "    torch.manual_seed(seed)\n",
    "    torch.cuda.manual_seed(seed)\n",
    "    torch.cuda.manual_seed_all(seed)\n",
    "\n",
    "set_seed(0)"
   ]
  },
  {
   "cell_type": "code",
   "execution_count": 3,
   "id": "3f624e90",
   "metadata": {
    "ExecuteTime": {
     "end_time": "2023-12-25T06:47:13.680913600Z",
     "start_time": "2023-12-25T06:47:13.506721800Z"
    }
   },
   "outputs": [
    {
     "name": "stdout",
     "output_type": "stream",
     "text": [
      "user_emb_mse_0 [[-0.30584052  0.31445277 -0.32085735 ...  0.38600147 -0.33172542\n",
      "   0.36452895]\n",
      " [-0.37772697  0.43621007 -0.43697435 ...  0.44851348 -0.43678746\n",
      "   0.43986902]\n",
      " [-0.53812033  0.52454209 -0.40070242 ...  0.44782859 -0.52930433\n",
      "   0.49370912]\n",
      " ...\n",
      " [-0.35335532  0.45030597 -0.46539438 ...  0.39491549 -0.48133031\n",
      "   0.45048186]\n",
      " [-0.56421506  0.42175665 -0.51859009 ...  0.58428836 -0.50152475\n",
      "   0.54699063]\n",
      " [-0.52599502  0.55503333 -0.54048157 ...  0.55491346 -0.53933436\n",
      "   0.5073179 ]] (12168, 20)\n",
      "item_emb_mse_0 [[-0.44163632  0.36362165 -0.44438291 ...  0.44159007 -0.40201563\n",
      "   0.41600874]\n",
      " [-0.51702827  0.55144864 -0.5751915  ...  0.58056724 -0.54933715\n",
      "   0.57743794]\n",
      " [-0.26735637  0.31256163 -0.3312723  ...  0.28288558 -0.28170329\n",
      "   0.32355788]\n",
      " ...\n",
      " [-0.25085846  0.29776239 -0.37920755 ...  0.29199412 -0.36623648\n",
      "   0.32842368]\n",
      " [-0.54501808  0.49262151 -0.54724216 ...  0.57418019 -0.53476775\n",
      "   0.46674618]\n",
      " [-0.47938412  0.51870382 -0.38730419 ...  0.56291556 -0.52984375\n",
      "   0.52755153]] (11283, 20)\n"
     ]
    }
   ],
   "source": [
    "data_name = 'ciao'\n",
    "type = 'mf'\n",
    "emb_dim = 20\n",
    "core = 10\n",
    "\n",
    "user_emb_mse_0 = np.loadtxt(f'../para/{data_name}{core}{emb_dim}_{type}_user_emb.txt')\n",
    "item_emb_mse_0 = np.loadtxt(f'../para/{data_name}{core}{emb_dim}_{type}_item_emb.txt')\n",
    "\n",
    "print('user_emb_mse_0', user_emb_mse_0, user_emb_mse_0.shape)\n",
    "print('item_emb_mse_0', item_emb_mse_0, item_emb_mse_0.shape)\n"
   ]
  },
  {
   "cell_type": "code",
   "execution_count": 4,
   "id": "2970e628",
   "metadata": {
    "ExecuteTime": {
     "end_time": "2023-12-25T06:47:13.882876900Z",
     "start_time": "2023-12-25T06:47:13.675927400Z"
    }
   },
   "outputs": [],
   "source": [
    "rating = np.matmul(user_emb_mse_0, item_emb_mse_0.T)"
   ]
  },
  {
   "cell_type": "code",
   "execution_count": 5,
   "id": "afb629e6",
   "metadata": {
    "ExecuteTime": {
     "end_time": "2023-12-25T06:47:13.888780700Z",
     "start_time": "2023-12-25T06:47:13.884828100Z"
    }
   },
   "outputs": [
    {
     "name": "stdout",
     "output_type": "stream",
     "text": [
      "rating [[2.79188659 3.29754031 2.08250198 ... 1.59742743 3.17036708 3.44866888]\n",
      " [3.39963881 4.21646843 2.60880149 ... 2.28619839 4.11045544 4.26778243]\n",
      " [3.57152193 4.61355276 2.67696754 ... 2.45308259 4.28985024 4.35509722]\n",
      " ...\n",
      " [3.3405204  3.9298065  2.43234129 ... 2.10967855 4.11296801 3.98963189]\n",
      " [3.58720989 4.82405809 2.68270253 ... 2.92789754 4.86170722 4.33635009]\n",
      " [3.17551256 4.70217252 2.59247191 ... 3.28038786 4.52866465 3.98594138]] (12168, 11283)\n",
      "rating[0] [2.79188659 3.29754031 2.08250198 ... 1.59742743 3.17036708 3.44866888] 3.8196557264455375 0.6819343443850602\n"
     ]
    }
   ],
   "source": [
    "print('rating', rating, rating.shape)\n",
    "print('rating[0]', rating[0], rating[0].max(), rating[0].min())"
   ]
  },
  {
   "cell_type": "code",
   "execution_count": 6,
   "id": "48d13e67",
   "metadata": {
    "ExecuteTime": {
     "end_time": "2023-12-25T06:47:14.022902500Z",
     "start_time": "2023-12-25T06:47:13.888780700Z"
    }
   },
   "outputs": [
    {
     "data": {
      "text/plain": [
       "3.7430201281726387"
      ]
     },
     "execution_count": 6,
     "metadata": {},
     "output_type": "execute_result"
    }
   ],
   "source": [
    "rating.mean()"
   ]
  },
  {
   "cell_type": "code",
   "execution_count": 7,
   "id": "c7dfb1d0",
   "metadata": {
    "ExecuteTime": {
     "end_time": "2023-12-25T06:47:14.252632500Z",
     "start_time": "2023-12-25T06:47:14.024903500Z"
    }
   },
   "outputs": [],
   "source": [
    "rating_data = np.loadtxt(f'../../datasets/{data_name}/processed_rating{core}.txt').astype('int')"
   ]
  },
  {
   "cell_type": "code",
   "execution_count": 8,
   "id": "b99b1f88",
   "metadata": {
    "ExecuteTime": {
     "end_time": "2023-12-25T06:47:14.258608100Z",
     "start_time": "2023-12-25T06:47:14.254629700Z"
    }
   },
   "outputs": [
    {
     "data": {
      "text/plain": [
       "3.9085077056591357"
      ]
     },
     "execution_count": 8,
     "metadata": {},
     "output_type": "execute_result"
    }
   ],
   "source": [
    "rating_data[:, 2].mean()"
   ]
  },
  {
   "cell_type": "code",
   "execution_count": 9,
   "id": "21621047",
   "metadata": {
    "ExecuteTime": {
     "end_time": "2023-12-25T06:47:14.265307600Z",
     "start_time": "2023-12-25T06:47:14.259645Z"
    }
   },
   "outputs": [],
   "source": [
    "def rating_out(user_index, item_index):\n",
    "    user_emb = user_emb_mse_0[user_index] \n",
    "    item_emb = item_emb_mse_0[item_index]\n",
    "    \n",
    "    rating = (user_emb * item_emb).sum()\n",
    "    return rating\n"
   ]
  },
  {
   "cell_type": "code",
   "execution_count": 10,
   "id": "dba67e60",
   "metadata": {
    "ExecuteTime": {
     "end_time": "2023-12-25T06:47:14.267308700Z",
     "start_time": "2023-12-25T06:47:14.263080700Z"
    }
   },
   "outputs": [
    {
     "data": {
      "text/plain": [
       "3.342150205363568"
      ]
     },
     "execution_count": 10,
     "metadata": {},
     "output_type": "execute_result"
    }
   ],
   "source": [
    "rating_out(100, 100)"
   ]
  },
  {
   "cell_type": "code",
   "execution_count": 11,
   "id": "f7292b95",
   "metadata": {
    "ExecuteTime": {
     "end_time": "2023-12-25T06:47:14.275289300Z",
     "start_time": "2023-12-25T06:47:14.267308700Z"
    }
   },
   "outputs": [
    {
     "data": {
      "text/plain": [
       "3.3421502053635685"
      ]
     },
     "execution_count": 11,
     "metadata": {},
     "output_type": "execute_result"
    }
   ],
   "source": [
    "rating[100, 100]"
   ]
  },
  {
   "cell_type": "code",
   "execution_count": 12,
   "id": "d55a9978",
   "metadata": {
    "ExecuteTime": {
     "end_time": "2023-12-25T06:47:14.282054400Z",
     "start_time": "2023-12-25T06:47:14.271286200Z"
    }
   },
   "outputs": [
    {
     "name": "stdout",
     "output_type": "stream",
     "text": [
      "coat [[  0  12   4]\n",
      " [  0  17   3]\n",
      " [  0  74   4]\n",
      " ...\n",
      " [289 263   1]\n",
      " [289 273   1]\n",
      " [289 295   1]] (4640, 3)\n"
     ]
    }
   ],
   "source": [
    "coat = np.loadtxt('../../datasets/coat/test.txt').astype('int')\n",
    "print('coat', coat, coat.shape)"
   ]
  },
  {
   "cell_type": "code",
   "execution_count": 13,
   "id": "9f4e5ab3",
   "metadata": {
    "ExecuteTime": {
     "end_time": "2023-12-25T06:47:14.314986500Z",
     "start_time": "2023-12-25T06:47:14.282054400Z"
    }
   },
   "outputs": [
    {
     "name": "stdout",
     "output_type": "stream",
     "text": [
      "coat_rating_bin [   0 1879  899 1002  641  219]\n"
     ]
    }
   ],
   "source": [
    "coat_rating_bin = np.bincount(coat[:, 2])\n",
    "print('coat_rating_bin', coat_rating_bin)"
   ]
  },
  {
   "cell_type": "code",
   "execution_count": 14,
   "id": "e796f9a6",
   "metadata": {
    "ExecuteTime": {
     "end_time": "2023-12-25T06:47:14.315749300Z",
     "start_time": "2023-12-25T06:47:14.286285300Z"
    }
   },
   "outputs": [
    {
     "name": "stdout",
     "output_type": "stream",
     "text": [
      "coat_rating_prob [0.         0.4049569  0.19375    0.21594828 0.13814655 0.04719828]\n"
     ]
    }
   ],
   "source": [
    "coat_rating_prob = coat_rating_bin / coat_rating_bin.sum()\n",
    "print('coat_rating_prob', coat_rating_prob)"
   ]
  },
  {
   "cell_type": "code",
   "execution_count": 15,
   "id": "739c436f",
   "metadata": {
    "ExecuteTime": {
     "end_time": "2023-12-25T06:47:14.316279900Z",
     "start_time": "2023-12-25T06:47:14.288795200Z"
    }
   },
   "outputs": [
    {
     "name": "stdout",
     "output_type": "stream",
     "text": [
      "yahoo [[   0   48    1]\n",
      " [   0  125    1]\n",
      " [   0  137    1]\n",
      " ...\n",
      " [5399  685    1]\n",
      " [5399  783    4]\n",
      " [5399  806    3]] (54000, 3)\n"
     ]
    }
   ],
   "source": [
    "yahoo = np.loadtxt('../../datasets/yahooR3/random.txt').astype('int')\n",
    "print('yahoo', yahoo, yahoo.shape)"
   ]
  },
  {
   "cell_type": "code",
   "execution_count": 16,
   "id": "441557bd",
   "metadata": {
    "ExecuteTime": {
     "end_time": "2023-12-25T06:47:14.330983800Z",
     "start_time": "2023-12-25T06:47:14.314986500Z"
    }
   },
   "outputs": [
    {
     "name": "stdout",
     "output_type": "stream",
     "text": [
      "yahoo_rating_bin [    0 28417 13064  7770  3371  1378]\n"
     ]
    }
   ],
   "source": [
    "yahoo_rating_bin = np.bincount(yahoo[:, 2])\n",
    "print('yahoo_rating_bin', yahoo_rating_bin)"
   ]
  },
  {
   "cell_type": "code",
   "execution_count": 17,
   "id": "3d3e2d4a",
   "metadata": {
    "ExecuteTime": {
     "end_time": "2023-12-25T06:47:14.331980900Z",
     "start_time": "2023-12-25T06:47:14.317307200Z"
    }
   },
   "outputs": [
    {
     "name": "stdout",
     "output_type": "stream",
     "text": [
      "yahoo_rating_prob [0.         0.52624074 0.24192593 0.14388889 0.06242593 0.02551852]\n"
     ]
    }
   ],
   "source": [
    "yahoo_rating_prob = yahoo_rating_bin / yahoo_rating_bin.sum()\n",
    "print('yahoo_rating_prob', yahoo_rating_prob)"
   ]
  },
  {
   "cell_type": "code",
   "execution_count": 18,
   "id": "5d121207",
   "metadata": {
    "ExecuteTime": {
     "end_time": "2023-12-25T06:47:14.331980900Z",
     "start_time": "2023-12-25T06:47:14.321693400Z"
    }
   },
   "outputs": [
    {
     "name": "stdout",
     "output_type": "stream",
     "text": [
      "full_observed_rating_prob [0.         0.46559882 0.21783796 0.17991858 0.10028624 0.0363584 ] (6,)\n"
     ]
    }
   ],
   "source": [
    "full_observed_rating_prob = (coat_rating_prob + yahoo_rating_prob) / 2\n",
    "print('full_observed_rating_prob', full_observed_rating_prob, full_observed_rating_prob.shape)"
   ]
  },
  {
   "cell_type": "code",
   "execution_count": 19,
   "id": "2d0ad3f8",
   "metadata": {
    "ExecuteTime": {
     "end_time": "2023-12-25T06:47:43.729469600Z",
     "start_time": "2023-12-25T06:47:14.325045300Z"
    }
   },
   "outputs": [
    {
     "name": "stdout",
     "output_type": "stream",
     "text": [
      "sort_index (array([ 9107,  9107,  5662, ..., 10298, 10298, 10298], dtype=int64), array([ 7403,  3270,  7403, ...,  8607,  7939, 10154], dtype=int64))\n"
     ]
    }
   ],
   "source": [
    "sort_index = np.unravel_index(np.argsort(rating, axis=None), rating.shape)\n",
    "print('sort_index', sort_index)"
   ]
  },
  {
   "cell_type": "code",
   "execution_count": 20,
   "id": "0f5526ee",
   "metadata": {
    "ExecuteTime": {
     "end_time": "2023-12-25T06:47:45.847413700Z",
     "start_time": "2023-12-25T06:47:43.729469600Z"
    }
   },
   "outputs": [
    {
     "data": {
      "text/plain": [
       "array([-0.42697264, -0.23321703, -0.18620327, ...,  6.19631384,\n",
       "        6.19962802,  6.22653157])"
      ]
     },
     "execution_count": 20,
     "metadata": {},
     "output_type": "execute_result"
    }
   ],
   "source": [
    "rating[sort_index]"
   ]
  },
  {
   "cell_type": "code",
   "execution_count": 21,
   "id": "f61e8bc5",
   "metadata": {
    "ExecuteTime": {
     "end_time": "2023-12-25T06:47:45.850344600Z",
     "start_time": "2023-12-25T06:47:45.847413700Z"
    }
   },
   "outputs": [
    {
     "name": "stdout",
     "output_type": "stream",
     "text": [
      "cum_full_observed_rating_prob [0.         0.46559882 0.68343678 0.86335536 0.9636416  1.        ]\n"
     ]
    }
   ],
   "source": [
    "cum_full_observed_rating_prob = np.cumsum(full_observed_rating_prob)\n",
    "print('cum_full_observed_rating_prob', cum_full_observed_rating_prob)"
   ]
  },
  {
   "cell_type": "code",
   "execution_count": 22,
   "id": "ddf4e50d",
   "metadata": {
    "ExecuteTime": {
     "end_time": "2023-12-25T06:47:45.855896500Z",
     "start_time": "2023-12-25T06:47:45.851341300Z"
    }
   },
   "outputs": [
    {
     "name": "stdout",
     "output_type": "stream",
     "text": [
      "(array([ 9107,  9107,  5662, ...,  5584,  1635, 10840], dtype=int64), array([ 7403,  3270,  7403, ...,  3171,  3371, 10462], dtype=int64))\n",
      "(array([  980,  4896,  5441, ...,   920, 12101,  1984], dtype=int64), array([5603, 2789,  977, ..., 4147, 9641, 5665], dtype=int64))\n",
      "(array([   21,  9597,  2009, ...,  5733,  5132, 11721], dtype=int64), array([ 6540,  2935,  1477, ..., 10926,  1497,  9126], dtype=int64))\n",
      "(array([ 1756, 10655,  1357, ..., 10549,  8907,  6571], dtype=int64), array([ 8938,  2924, 11164, ..., 11098,  5777,  2739], dtype=int64))\n",
      "(array([ 2886,   365,  1886, ..., 10298, 10298, 10298], dtype=int64), array([10112,  8415,  2995, ...,  8607,  7939, 10154], dtype=int64))\n"
     ]
    }
   ],
   "source": [
    "for i in range(5):\n",
    "    print((sort_index[0][int(cum_full_observed_rating_prob[i]*len(sort_index[0])): int(cum_full_observed_rating_prob[i+1]*len(sort_index[0]))], sort_index[1][int(cum_full_observed_rating_prob[i]*len(sort_index[0])): int(cum_full_observed_rating_prob[i+1]*len(sort_index[0]))]))\n"
   ]
  },
  {
   "cell_type": "code",
   "execution_count": 23,
   "id": "41d34790",
   "metadata": {
    "ExecuteTime": {
     "end_time": "2023-12-25T06:47:47.577762800Z",
     "start_time": "2023-12-25T06:47:45.855896500Z"
    }
   },
   "outputs": [],
   "source": [
    "for i in range(5):\n",
    "    rating[(sort_index[0][int(cum_full_observed_rating_prob[i]*len(sort_index[0])): int(cum_full_observed_rating_prob[i+1]*len(sort_index[0]))], sort_index[1][int(cum_full_observed_rating_prob[i]*len(sort_index[0])): int(cum_full_observed_rating_prob[i+1]*len(sort_index[0]))])] = i + 1\n"
   ]
  },
  {
   "cell_type": "code",
   "execution_count": 24,
   "id": "f6d1bb2b",
   "metadata": {
    "ExecuteTime": {
     "end_time": "2023-12-25T06:47:47.583348300Z",
     "start_time": "2023-12-25T06:47:47.578720600Z"
    }
   },
   "outputs": [
    {
     "data": {
      "text/plain": [
       "array([[1., 1., 1., ..., 1., 1., 1.],\n",
       "       [1., 3., 1., ..., 1., 2., 3.],\n",
       "       [1., 4., 1., ..., 1., 3., 3.],\n",
       "       ...,\n",
       "       [1., 2., 1., ..., 1., 2., 2.],\n",
       "       [1., 4., 1., ..., 1., 4., 3.],\n",
       "       [1., 4., 1., ..., 1., 4., 2.]])"
      ]
     },
     "execution_count": 24,
     "metadata": {},
     "output_type": "execute_result"
    }
   ],
   "source": [
    "rating"
   ]
  },
  {
   "cell_type": "code",
   "execution_count": 25,
   "id": "c9d90d9b",
   "metadata": {
    "ExecuteTime": {
     "end_time": "2023-12-25T06:48:01.244356900Z",
     "start_time": "2023-12-25T06:47:47.584296900Z"
    }
   },
   "outputs": [],
   "source": [
    "np.savetxt(f'../../datasets/{data_name}/{data_name}{core}{emb_dim}_{type}_full_rating.txt', rating, fmt='%d')"
   ]
  },
  {
   "cell_type": "code",
   "execution_count": 26,
   "id": "d4b80ad1",
   "metadata": {
    "ExecuteTime": {
     "end_time": "2023-12-25T06:48:01.256082900Z",
     "start_time": "2023-12-25T06:48:01.244356900Z"
    }
   },
   "outputs": [
    {
     "data": {
      "text/plain": [
       "2.3011956959483606"
      ]
     },
     "execution_count": 26,
     "metadata": {},
     "output_type": "execute_result"
    }
   ],
   "source": [
    "rating[(rating_data[:,0], rating_data[:, 1])].mean()"
   ]
  },
  {
   "cell_type": "code",
   "execution_count": 27,
   "id": "bd41e0d5",
   "metadata": {
    "ExecuteTime": {
     "end_time": "2023-12-25T06:48:01.396471Z",
     "start_time": "2023-12-25T06:48:01.257116Z"
    }
   },
   "outputs": [
    {
     "data": {
      "text/plain": [
       "2.023967455708707"
      ]
     },
     "execution_count": 27,
     "metadata": {},
     "output_type": "execute_result"
    }
   ],
   "source": [
    "rating.mean()"
   ]
  }
 ],
 "metadata": {
  "kernelspec": {
   "display_name": "usual",
   "language": "python",
   "name": "usual"
  },
  "language_info": {
   "codemirror_mode": {
    "name": "ipython",
    "version": 3
   },
   "file_extension": ".py",
   "mimetype": "text/x-python",
   "name": "python",
   "nbconvert_exporter": "python",
   "pygments_lexer": "ipython3",
   "version": "3.8.12"
  }
 },
 "nbformat": 4,
 "nbformat_minor": 5
}
