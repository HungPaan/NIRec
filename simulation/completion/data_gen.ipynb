{
 "cells": [
  {
   "cell_type": "code",
   "execution_count": 115,
   "metadata": {
    "ExecuteTime": {
     "end_time": "2023-12-26T15:26:14.161759800Z",
     "start_time": "2023-12-26T15:26:14.066791300Z"
    },
    "collapsed": true
   },
   "outputs": [],
   "source": [
    "import numpy as np\n",
    "import torch\n",
    "import random\n",
    "import pandas as pd\n",
    "from scipy.special import expit"
   ]
  },
  {
   "cell_type": "code",
   "execution_count": 116,
   "metadata": {
    "ExecuteTime": {
     "end_time": "2023-12-26T15:26:14.205629600Z",
     "start_time": "2023-12-26T15:26:14.069291400Z"
    },
    "collapsed": false
   },
   "outputs": [],
   "source": [
    "def set_seed(seed):\n",
    "    random.seed(seed)\n",
    "    np.random.seed(seed)\n",
    "    torch.manual_seed(seed)\n",
    "    torch.cuda.manual_seed(seed)\n",
    "    torch.cuda.manual_seed_all(seed)\n",
    "\n",
    "set_seed(0)"
   ]
  },
  {
   "cell_type": "code",
   "execution_count": 117,
   "metadata": {
    "ExecuteTime": {
     "end_time": "2023-12-26T15:26:14.205629600Z",
     "start_time": "2023-12-26T15:26:14.078373800Z"
    },
    "collapsed": false
   },
   "outputs": [],
   "source": [
    "data_name = 'ciao'\n",
    "core = 10"
   ]
  },
  {
   "cell_type": "code",
   "execution_count": 118,
   "metadata": {
    "ExecuteTime": {
     "end_time": "2023-12-26T15:26:14.399910600Z",
     "start_time": "2023-12-26T15:26:14.082953600Z"
    },
    "collapsed": false
   },
   "outputs": [
    {
     "name": "stdout",
     "output_type": "stream",
     "text": [
      "rating_data [[    0     0     2]\n",
      " [    0     1     2]\n",
      " [    0     2     2]\n",
      " ...\n",
      " [12167  5241     5]\n",
      " [12167   852     5]\n",
      " [12167  5228     4]] (352598, 3)\n",
      "trust_network [[    1  2275]\n",
      " [    1 12034]\n",
      " [    1  1922]\n",
      " ...\n",
      " [12165  4215]\n",
      " [12166  4816]\n",
      " [12167  3224]] (123187, 2)\n",
      "num_users 12168\n",
      "num_items 11283\n",
      "num_rating_data 352598\n"
     ]
    }
   ],
   "source": [
    "rating_data = np.loadtxt(f'../../datasets/{data_name}/processed_rating{core}.txt').astype(int)\n",
    "trust_network = np.loadtxt(f'../../datasets/{data_name}/processed_trust{core}.txt').astype(int)\n",
    "num_users = rating_data[:, 0].max() + 1\n",
    "num_items = rating_data[:, 1].max() + 1\n",
    "num_rating_data = len(rating_data)\n",
    "print('rating_data', rating_data, rating_data.shape)\n",
    "print('trust_network', trust_network, trust_network.shape)\n",
    "print('num_users', num_users)\n",
    "print('num_items', num_items)\n",
    "print('num_rating_data', num_rating_data)"
   ]
  },
  {
   "cell_type": "code",
   "execution_count": 119,
   "metadata": {
    "ExecuteTime": {
     "end_time": "2023-12-26T15:26:14.412071400Z",
     "start_time": "2023-12-26T15:26:14.401898800Z"
    },
    "collapsed": false
   },
   "outputs": [
    {
     "name": "stdout",
     "output_type": "stream",
     "text": [
      "user act 10 1018\n",
      "item pop 10 1512\n"
     ]
    }
   ],
   "source": [
    "rating_data_user_count = np.bincount(rating_data[:, 0])\n",
    "rating_data_item_count = np.bincount(rating_data[:, 1])\n",
    "print('user act', rating_data_user_count.min(), rating_data_user_count.max())\n",
    "print('item pop', rating_data_item_count.min(), rating_data_item_count.max())"
   ]
  },
  {
   "cell_type": "code",
   "execution_count": 120,
   "metadata": {
    "ExecuteTime": {
     "end_time": "2023-12-26T15:26:14.414070300Z",
     "start_time": "2023-12-26T15:26:14.409388500Z"
    },
    "collapsed": false
   },
   "outputs": [],
   "source": [
    "#########ciao10\n",
    "emb_dim = 20\n",
    "alpha1 = 0.1\n",
    "alpha2 = 0.2\n",
    "alpha3 = 1.0 - alpha1 - alpha2\n",
    "# alpha1 = 1.0\n",
    "# alpha2 = 0.0\n",
    "# alpha3 = 1.0 - alpha1 - alpha2\n",
    "\n",
    "completion_type = 'full_mf'\n",
    "num_all_data = num_users * num_items\n",
    "sparsity = float(num_rating_data) / float(num_all_data)\n",
    "uniform_pui = sparsity\n",
    "indi_scale = 2.0\n",
    "print('sparsity', sparsity)\n",
    "\n",
    "user_emb = np.loadtxt(f'../para/{data_name}{core}{emb_dim}_{completion_type}_user_emb.txt')\n",
    "item_emb = np.loadtxt(f'../para/{data_name}{core}{emb_dim}_{completion_type}_item_emb.txt')\n",
    "\n",
    "rating_ui = np.matmul(user_emb, item_emb.T)\n",
    "prefer_pui = expit((rating_ui-3.0)*indi_scale)\n",
    "print('prefer_pui1', prefer_pui, prefer_pui.max(), prefer_pui.min())\n",
    "prefer_pui = prefer_pui.reshape(1, -1)[0]\n",
    "print('prefer_pui2', prefer_pui, prefer_pui.max(), prefer_pui.min())\n",
    "beta = num_users * num_items * sparsity / prefer_pui.sum()\n",
    "prefer_pui = prefer_pui * beta\n",
    "print('prefer_pui', prefer_pui, prefer_pui.max(), prefer_pui.min())\n"
   ]
  },
  {
   "cell_type": "code",
   "execution_count": 121,
   "metadata": {
    "ExecuteTime": {
     "end_time": "2023-12-26T15:26:14.421595Z",
     "start_time": "2023-12-26T15:26:14.414070300Z"
    },
    "collapsed": false
   },
   "outputs": [],
   "source": [
    "# emb_dim = 20\n",
    "# alpha1 = 0.2\n",
    "# alpha2 = 0.65\n",
    "# alpha3 = 0.15\n",
    "# # alpha1 = 1.0\n",
    "# # alpha2 = 0.0\n",
    "# # alpha3 = 1.0 - alpha1 - alpha2\n",
    "# \n",
    "# completion_type = 'full_mf'\n",
    "# num_all_data = num_users * num_items\n",
    "# sparsity = float(num_rating_data) / float(num_all_data)\n",
    "# uniform_pui = sparsity\n",
    "# indi_scale = 2.0\n",
    "# print('sparsity', sparsity)\n",
    "# \n",
    "# user_emb = np.loadtxt(f'../para/{data_name}{core}{emb_dim}_{completion_type}_user_emb.txt')\n",
    "# item_emb = np.loadtxt(f'../para/{data_name}{core}{emb_dim}_{completion_type}_item_emb.txt')\n",
    "# \n",
    "# rating_ui = np.matmul(user_emb, item_emb.T)\n",
    "# prefer_pui = expit((rating_ui-3.0)*indi_scale)\n",
    "# print('prefer_pui1', prefer_pui, prefer_pui.max(), prefer_pui.min())\n",
    "# prefer_pui = prefer_pui.reshape(1, -1)[0]\n",
    "# print('prefer_pui2', prefer_pui, prefer_pui.max(), prefer_pui.min())\n",
    "# beta = num_users * num_items * sparsity / prefer_pui.sum()\n",
    "# prefer_pui = prefer_pui * beta\n",
    "# print('prefer_pui', prefer_pui, prefer_pui.max(), prefer_pui.min())\n"
   ]
  },
  {
   "cell_type": "code",
   "execution_count": 122,
   "metadata": {
    "ExecuteTime": {
     "end_time": "2023-12-26T15:26:17.500188500Z",
     "start_time": "2023-12-26T15:26:14.419599700Z"
    },
    "collapsed": false
   },
   "outputs": [
    {
     "name": "stdout",
     "output_type": "stream",
     "text": [
      "sparsity 0.0025682426588486762\n",
      "prefer_pui1 [[0.02533876 0.01957742 0.01588365 ... 0.01588365 0.01940156 0.01764607]\n",
      " [0.01135168 0.42463093 0.01829775 ... 0.01829775 0.15816636 0.55260702]\n",
      " [0.02175605 0.79967196 0.017429   ... 0.017429   0.50106652 0.39368718]\n",
      " ...\n",
      " [0.01240548 0.11457519 0.01855035 ... 0.01855036 0.21174962 0.08599329]\n",
      " [0.02803675 0.94405845 0.01787913 ... 0.01787914 0.95465401 0.44128501]\n",
      " [0.01460277 0.9063856  0.01871988 ... 0.01871987 0.75303424 0.11448891]] 0.999449803359099 0.00356426736462196\n",
      "prefer_pui2 [0.02533876 0.01957742 0.01588365 ... 0.01871987 0.75303424 0.11448891] 0.999449803359099 0.00356426736462196\n",
      "prefer_pui [0.00026451 0.00020437 0.00016581 ... 0.00019542 0.00786092 0.00119515] 0.010433253046555062 3.720737471326283e-05\n"
     ]
    }
   ],
   "source": [
    "# emb_dim = 20\n",
    "# alpha1 = 0.2\n",
    "# alpha2 = 0.6\n",
    "# alpha3 = 0.2\n",
    "# # alpha1 = 1.0\n",
    "# # alpha2 = 0.0\n",
    "# # alpha3 = 1.0 - alpha1 - alpha2\n",
    "\n",
    "# completion_type = 'full_mf'\n",
    "# num_all_data = num_users * num_items\n",
    "# sparsity = float(num_rating_data) / float(num_all_data)\n",
    "# uniform_pui = sparsity\n",
    "# indi_scale = 2.0\n",
    "# print('sparsity', sparsity)\n",
    "\n",
    "# user_emb = np.loadtxt(f'../para/{data_name}{core}{emb_dim}_{completion_type}_user_emb.txt')\n",
    "# item_emb = np.loadtxt(f'../para/{data_name}{core}{emb_dim}_{completion_type}_item_emb.txt')\n",
    "\n",
    "# rating_ui = np.matmul(user_emb, item_emb.T)\n",
    "# prefer_pui = expit((rating_ui-3.0)*indi_scale)\n",
    "# print('prefer_pui1', prefer_pui, prefer_pui.max(), prefer_pui.min())\n",
    "# prefer_pui = prefer_pui.reshape(1, -1)[0]\n",
    "# print('prefer_pui2', prefer_pui, prefer_pui.max(), prefer_pui.min())\n",
    "# beta = num_users * num_items * sparsity / prefer_pui.sum()\n",
    "# prefer_pui = prefer_pui * beta\n",
    "# print('prefer_pui', prefer_pui, prefer_pui.max(), prefer_pui.min())\n"
   ]
  },
  {
   "cell_type": "code",
   "execution_count": 123,
   "metadata": {
    "ExecuteTime": {
     "end_time": "2023-12-26T15:26:17.507131700Z",
     "start_time": "2023-12-26T15:26:17.497198800Z"
    },
    "collapsed": false
   },
   "outputs": [
    {
     "name": "stdout",
     "output_type": "stream",
     "text": [
      "[array([    0,     0,     0, ..., 11282, 11282, 11282]), array([ 6801,  8206,   804, ...,  3931, 11145,  2038])]\n",
      "data_wrt_uni_pui [[ 1751  2017]\n",
      " [ 4643  9945]\n",
      " [ 5112  1131]\n",
      " ...\n",
      " [ 6159 10029]\n",
      " [10985  4291]\n",
      " [ 8556  5734]] (70519, 2) 5 6 6 7\n"
     ]
    }
   ],
   "source": [
    "base_num_users_wrt_uni_pui = int(alpha1 * uniform_pui * num_all_data // num_users)\n",
    "incre_num_users_wrt_uni_pui = int(alpha1 * uniform_pui * num_all_data % num_users)\n",
    "users_wrt_uni_pui = [np.repeat(np.arange(num_users), base_num_users_wrt_uni_pui), np.random.choice(np.arange(num_users), size=incre_num_users_wrt_uni_pui, replace=False).astype(int)]\n",
    "users_wrt_uni_pui = np.hstack(users_wrt_uni_pui)\n",
    "np.random.shuffle(users_wrt_uni_pui)\n",
    "\n",
    "base_num_items_wrt_uni_pui = int(alpha1 * uniform_pui * num_all_data // num_items)\n",
    "incre_num_items_wrt_uni_pui = int(alpha1 * uniform_pui * num_all_data % num_items)\n",
    "items_wrt_uni_pui = [np.repeat(np.arange(num_items), base_num_items_wrt_uni_pui), np.random.choice(np.arange(num_items), size=incre_num_items_wrt_uni_pui, replace=False).astype(int)]\n",
    "print(items_wrt_uni_pui)\n",
    "items_wrt_uni_pui = np.hstack(items_wrt_uni_pui)\n",
    "np.random.shuffle(items_wrt_uni_pui)\n",
    "data_wrt_uni_pui = np.hstack((users_wrt_uni_pui.reshape(-1, 1), items_wrt_uni_pui.reshape(-1, 1)))\n",
    "print('data_wrt_uni_pui', data_wrt_uni_pui, data_wrt_uni_pui.shape, np.bincount(data_wrt_uni_pui[:, 0]).min(), np.bincount(data_wrt_uni_pui[:, 0]).max(), np.bincount(data_wrt_uni_pui[:, 1]).min(), np.bincount(data_wrt_uni_pui[:, 1]).max())"
   ]
  },
  {
   "cell_type": "code",
   "execution_count": 124,
   "metadata": {
    "ExecuteTime": {
     "end_time": "2023-12-26T15:26:20.927010400Z",
     "start_time": "2023-12-26T15:26:17.508128400Z"
    },
    "collapsed": false
   },
   "outputs": [
    {
     "name": "stdout",
     "output_type": "stream",
     "text": [
      "len(np.arange(num_all_data)) 137291544 137291544\n",
      "index_wrt_pref_pui [ 84386340  70865644  15684085 ...   6360619 118326881  73039835]\n",
      "data_wrt_pref_pui [[ 7479   783]\n",
      " [ 6280  8404]\n",
      " [ 1390   715]\n",
      " ...\n",
      " [  563  8290]\n",
      " [10487  2060]\n",
      " [ 6473  4976]] (211558, 2)\n"
     ]
    }
   ],
   "source": [
    "index_wrt_uni_pui = data_wrt_uni_pui[:, 0] * num_items + data_wrt_uni_pui[:, 1]\n",
    "prefer_pui_for_choice = prefer_pui.copy()\n",
    "prefer_pui_for_choice[index_wrt_uni_pui] = 0.0\n",
    "prefer_pui_for_choice = prefer_pui_for_choice / prefer_pui_for_choice.sum()\n",
    "print('len(np.arange(num_all_data))', len(np.arange(num_all_data)), len(prefer_pui_for_choice))\n",
    "index_wrt_pref_pui = np.random.choice(np.arange(num_all_data), size=int(alpha2*prefer_pui.sum()), replace=False, p=prefer_pui_for_choice)\n",
    "\n",
    "user_wrt_pref_pui = index_wrt_pref_pui // num_items\n",
    "item_wrt_pref_pui = index_wrt_pref_pui % num_items\n",
    "print('index_wrt_pref_pui', index_wrt_pref_pui)\n",
    "data_wrt_pref_pui = np.hstack((user_wrt_pref_pui.reshape(-1, 1), item_wrt_pref_pui.reshape(-1, 1)))\n",
    "print('data_wrt_pref_pui', data_wrt_pref_pui, data_wrt_pref_pui.shape)"
   ]
  },
  {
   "cell_type": "code",
   "execution_count": 125,
   "metadata": {
    "ExecuteTime": {
     "end_time": "2023-12-26T15:26:20.935033Z",
     "start_time": "2023-12-26T15:26:20.930003400Z"
    },
    "collapsed": false
   },
   "outputs": [],
   "source": [
    "temp_gen_data = np.vstack((data_wrt_uni_pui, data_wrt_pref_pui))"
   ]
  },
  {
   "cell_type": "code",
   "execution_count": 126,
   "metadata": {
    "ExecuteTime": {
     "end_time": "2023-12-26T15:26:42.365051900Z",
     "start_time": "2023-12-26T15:26:20.936029200Z"
    },
    "collapsed": false
   },
   "outputs": [
    {
     "name": "stdout",
     "output_type": "stream",
     "text": [
      "item_list_per_user_neighs [   27.   162.   201. ...  9063.  9182. 10753.]\n",
      "target_user_list_per_user_neighs [    1     1     1 ... 12167 12167 12167]\n",
      "count_items_user_neighs 2561290\n"
     ]
    }
   ],
   "source": [
    "count_items_user_neighs = 0\n",
    "item_list_per_user_neighs = []\n",
    "target_user_list_per_user_neighs = []\n",
    "for u in range(num_users):\n",
    "    neighs = trust_network[:, 1][trust_network[:, 0]==u]\n",
    "    if len(neighs) != 0:\n",
    "        temp_item_list_per_user_neighs = []\n",
    "        for v in neighs:\n",
    "            temp_item_list_per_user_neighs.extend(temp_gen_data[:, 1][temp_gen_data[:, 0]==v])\n",
    "        temp_item_list_per_user_neighs = np.array(temp_item_list_per_user_neighs)\n",
    "        temp_item_list_per_user_neighs = np.unique(temp_item_list_per_user_neighs)\n",
    "        item_list_per_user_neighs.append(temp_item_list_per_user_neighs)\n",
    "        target_user_list_per_user_neighs.append(np.ones_like(temp_item_list_per_user_neighs, dtype=int)*u)\n",
    "    else:\n",
    "        item_list_per_user_neighs.append(np.empty(0))\n",
    "    count_items_user_neighs = count_items_user_neighs + len(item_list_per_user_neighs[u])\n",
    "item_list_per_user_neighs = np.hstack(item_list_per_user_neighs)\n",
    "target_user_list_per_user_neighs = np.hstack(target_user_list_per_user_neighs)\n",
    "print('item_list_per_user_neighs', item_list_per_user_neighs)\n",
    "print('target_user_list_per_user_neighs', target_user_list_per_user_neighs)\n",
    "print('count_items_user_neighs', count_items_user_neighs)"
   ]
  },
  {
   "cell_type": "code",
   "execution_count": 127,
   "metadata": {
    "ExecuteTime": {
     "end_time": "2023-12-26T15:26:42.430975800Z",
     "start_time": "2023-12-26T15:26:42.367047700Z"
    },
    "collapsed": false
   },
   "outputs": [
    {
     "name": "stdout",
     "output_type": "stream",
     "text": [
      "neigh_pui 0.13766422388718186\n",
      "data_wrt_neigh_p_ui [[1143. 3422.]\n",
      " [9846. 9975.]\n",
      " [1517. 3028.]\n",
      " ...\n",
      " [5675. 6871.]\n",
      " [ 790. 4204.]\n",
      " [5622. 1787.]] (70519, 2)\n"
     ]
    }
   ],
   "source": [
    "neigh_pui = num_rating_data / count_items_user_neighs\n",
    "print('neigh_pui', neigh_pui)\n",
    "index_wrt_neigh_pui = np.random.choice(np.arange(count_items_user_neighs), size=int(alpha3*neigh_pui*count_items_user_neighs), replace=False)\n",
    "user_wrt_neigh_pui = target_user_list_per_user_neighs[index_wrt_neigh_pui]\n",
    "item_wrt_neigh_pui = item_list_per_user_neighs[index_wrt_neigh_pui]\n",
    "data_wrt_neigh_pui = np.hstack((user_wrt_neigh_pui.reshape(-1, 1), item_wrt_neigh_pui.reshape(-1, 1)))\n",
    "print('data_wrt_neigh_p_ui', data_wrt_neigh_pui, data_wrt_neigh_pui.shape)"
   ]
  },
  {
   "cell_type": "code",
   "execution_count": 128,
   "metadata": {
    "ExecuteTime": {
     "end_time": "2023-12-26T15:26:42.440559700Z",
     "start_time": "2023-12-26T15:26:42.432966700Z"
    },
    "collapsed": false
   },
   "outputs": [],
   "source": [
    "gen_data = np.vstack((temp_gen_data, data_wrt_neigh_pui))\n",
    "gen_data = gen_data.astype(int)"
   ]
  },
  {
   "cell_type": "code",
   "execution_count": 129,
   "metadata": {
    "ExecuteTime": {
     "end_time": "2023-12-26T15:26:42.504349200Z",
     "start_time": "2023-12-26T15:26:42.439562200Z"
    },
    "collapsed": false
   },
   "outputs": [
    {
     "name": "stdout",
     "output_type": "stream",
     "text": [
      "gen_data [[1751 2017]\n",
      " [4643 9945]\n",
      " [5112 1131]\n",
      " ...\n",
      " [5675 6871]\n",
      " [ 790 4204]\n",
      " [5622 1787]] (352383, 2)\n"
     ]
    }
   ],
   "source": [
    "gen_data_df = pd.DataFrame(gen_data, columns=['user_id', 'item_id'])\n",
    "gen_data_unique = gen_data_df.drop_duplicates(subset=['user_id', 'item_id'])\n",
    "gen_data = gen_data_unique.to_numpy()\n",
    "print('gen_data', gen_data, gen_data.shape)\n"
   ]
  },
  {
   "cell_type": "code",
   "execution_count": 130,
   "metadata": {
    "ExecuteTime": {
     "end_time": "2023-12-26T15:26:42.504349200Z",
     "start_time": "2023-12-26T15:26:42.472913300Z"
    },
    "collapsed": false
   },
   "outputs": [
    {
     "name": "stdout",
     "output_type": "stream",
     "text": [
      "user_act [ 6 18 17 ... 21 30 13]\n",
      "item_pop [12 61 10 ... 12 52 55]\n"
     ]
    }
   ],
   "source": [
    "user_act = np.bincount(gen_data[:, 0], minlength=num_users)\n",
    "item_pop = np.bincount(gen_data[:, 1], minlength=num_items)\n",
    "print('user_act', user_act)\n",
    "print('item_pop', item_pop)"
   ]
  },
  {
   "cell_type": "code",
   "execution_count": 131,
   "metadata": {
    "ExecuteTime": {
     "end_time": "2023-12-26T15:26:42.504349200Z",
     "start_time": "2023-12-26T15:26:42.481822800Z"
    },
    "collapsed": false
   },
   "outputs": [
    {
     "data": {
      "text/plain": [
       "200"
      ]
     },
     "execution_count": 131,
     "metadata": {},
     "output_type": "execute_result"
    }
   ],
   "source": [
    "user_act.max()"
   ]
  },
  {
   "cell_type": "code",
   "execution_count": 132,
   "metadata": {
    "ExecuteTime": {
     "end_time": "2023-12-26T15:26:42.504349200Z",
     "start_time": "2023-12-26T15:26:42.486609800Z"
    },
    "collapsed": false
   },
   "outputs": [
    {
     "data": {
      "text/plain": [
       "5"
      ]
     },
     "execution_count": 132,
     "metadata": {},
     "output_type": "execute_result"
    }
   ],
   "source": [
    "user_act.min()"
   ]
  },
  {
   "cell_type": "code",
   "execution_count": 133,
   "metadata": {
    "ExecuteTime": {
     "end_time": "2023-12-26T15:26:42.504349200Z",
     "start_time": "2023-12-26T15:26:42.490362700Z"
    },
    "collapsed": false
   },
   "outputs": [
    {
     "data": {
      "text/plain": [
       "111"
      ]
     },
     "execution_count": 133,
     "metadata": {},
     "output_type": "execute_result"
    }
   ],
   "source": [
    "item_pop.max()"
   ]
  },
  {
   "cell_type": "code",
   "execution_count": 134,
   "metadata": {
    "ExecuteTime": {
     "end_time": "2023-12-26T15:26:42.504349200Z",
     "start_time": "2023-12-26T15:26:42.495191700Z"
    },
    "collapsed": false
   },
   "outputs": [
    {
     "data": {
      "text/plain": [
       "6"
      ]
     },
     "execution_count": 134,
     "metadata": {},
     "output_type": "execute_result"
    }
   ],
   "source": [
    "item_pop.min()"
   ]
  },
  {
   "cell_type": "code",
   "execution_count": 135,
   "metadata": {
    "ExecuteTime": {
     "end_time": "2023-12-26T15:26:43.013559400Z",
     "start_time": "2023-12-26T15:26:42.500365800Z"
    },
    "collapsed": false
   },
   "outputs": [],
   "source": [
    "np.savetxt(f'../../datasets/{data_name}/{data_name}{core}{emb_dim}{alpha1}{alpha2}{alpha3}_{completion_type}_exposed_data.txt', gen_data, fmt='%d')"
   ]
  },
  {
   "cell_type": "markdown",
   "metadata": {
    "ExecuteTime": {
     "end_time": "2023-10-17T06:41:02.586754Z",
     "start_time": "2023-10-17T06:41:02.351377800Z"
    },
    "collapsed": false
   },
   "source": []
  }
 ],
 "metadata": {
  "kernelspec": {
   "display_name": "usual",
   "language": "python",
   "name": "usual"
  },
  "language_info": {
   "codemirror_mode": {
    "name": "ipython",
    "version": 2
   },
   "file_extension": ".py",
   "mimetype": "text/x-python",
   "name": "python",
   "nbconvert_exporter": "python",
   "pygments_lexer": "ipython2",
   "version": "2.7.6"
  }
 },
 "nbformat": 4,
 "nbformat_minor": 0
}
