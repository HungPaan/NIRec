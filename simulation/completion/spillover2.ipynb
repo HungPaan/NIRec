{
 "cells": [
  {
   "cell_type": "code",
   "execution_count": null,
   "id": "871b555e",
   "metadata": {
    "ExecuteTime": {
     "end_time": "2024-01-06T04:39:53.234059800Z",
     "start_time": "2024-01-06T04:39:53.174018200Z"
    }
   },
   "outputs": [],
   "source": [
    "import numpy as np\n",
    "import pandas as pd\n",
    "from matplotlib import pyplot as plt\n",
    "import torch\n",
    "import torch_geometric\n",
    "from torch_geometric.nn import MessagePassing\n",
    "import  random\n",
    "import math"
   ]
  },
  {
   "cell_type": "code",
   "execution_count": null,
   "id": "7c6490607290a414",
   "metadata": {
    "ExecuteTime": {
     "end_time": "2024-01-06T04:39:53.234059800Z",
     "start_time": "2024-01-06T04:39:53.178030300Z"
    },
    "collapsed": false
   },
   "outputs": [],
   "source": [
    "def set_seed(seed):\n",
    "    random.seed(seed)\n",
    "    np.random.seed(seed)\n",
    "    torch.manual_seed(seed)\n",
    "    torch.cuda.manual_seed(seed)\n",
    "    torch.cuda.manual_seed_all(seed)\n",
    "set_seed(0)"
   ]
  },
  {
   "cell_type": "code",
   "execution_count": null,
   "id": "145d862821bd1a4",
   "metadata": {
    "ExecuteTime": {
     "end_time": "2024-01-06T04:39:53.235093800Z",
     "start_time": "2024-01-06T04:39:53.180538400Z"
    },
    "collapsed": false
   },
   "outputs": [],
   "source": [
    "#######ciao10\n",
    "data_name = 'ciao'\n",
    "core = 10\n",
    "completion_type = 'full_mf'\n",
    "device = 'cuda'\n",
    "alpha1 = 0.1\n",
    "alpha2 = 0.2\n",
    "alpha3 = 1.0 - alpha1 - alpha2\n",
    "completion_dim = 20\n",
    "indi_scale = 0.25\n",
    "neigh_scale = 0.25\n",
    "att_scale = 1.0\n",
    "beta = 20.0\n",
    "power = 0.5\n",
    "reced_data = torch.from_numpy(np.loadtxt(f'../../datasets/{data_name}/{data_name}{core}{completion_dim}{alpha1}{alpha2}{alpha3}_{completion_type}_exposed_data.txt')).long().to(device)\n",
    "# reced_data = torch.from_numpy(np.loadtxt(f'../../../interference/datasets/ciao/save3/ciao10_full_mf_exposed_data.txt')).long().to(device)"
   ]
  },
  {
   "cell_type": "code",
   "execution_count": null,
   "id": "27e965a8d602fda4",
   "metadata": {
    "ExecuteTime": {
     "end_time": "2024-01-06T04:39:53.235093800Z",
     "start_time": "2024-01-06T04:39:53.183684800Z"
    },
    "collapsed": false
   },
   "outputs": [],
   "source": [
    "# data_name = 'filmtrust'\n",
    "# core = 5\n",
    "# completion_type = 'full_mf'\n",
    "# device = 'cuda'\n",
    "# alpha1 = 0.2\n",
    "# alpha2 = 0.65\n",
    "# alpha3 = 0.15\n",
    "# completion_dim = 20\n",
    "# indi_scale = 0.25\n",
    "# neigh_scale = 0.25\n",
    "# att_scale = 1.0\n",
    "# beta = 20.0\n",
    "# power = 0.5\n",
    "# reced_data = torch.from_numpy(np.loadtxt(f'../../datasets/{data_name}/{data_name}{core}{completion_dim}{alpha1}{alpha2}{alpha3}_{completion_type}_exposed_data.txt')).long().to(device)\n",
    "# # reced_data = torch.from_numpy(np.loadtxt(f'../../../interference/datasets/ciao/save3/ciao10_full_mf_exposed_data.txt')).long().to(device)"
   ]
  },
  {
   "cell_type": "code",
   "execution_count": null,
   "id": "22f74dbea7ebff0f",
   "metadata": {
    "ExecuteTime": {
     "end_time": "2024-01-06T04:39:53.285216500Z",
     "start_time": "2024-01-06T04:39:53.189119Z"
    },
    "collapsed": false
   },
   "outputs": [],
   "source": [
    "# data_name = 'epinions'\n",
    "# core = 10\n",
    "# completion_type = 'full_mf'\n",
    "# device = 'cuda'\n",
    "# alpha1 = 0.2\n",
    "# alpha2 = 0.6\n",
    "# alpha3 = 0.2\n",
    "# completion_dim = 20\n",
    "# indi_scale = 0.25\n",
    "# neigh_scale = 0.25\n",
    "# att_scale = 1.0\n",
    "# beta = 30.0\n",
    "# power = 0.5\n",
    "# reced_data = torch.from_numpy(np.loadtxt(f'../../datasets/{data_name}/{data_name}{core}{completion_dim}{alpha1}{alpha2}{alpha3}_{completion_type}_exposed_data.txt')).long().to(device)\n",
    "# # reced_data = torch.from_numpy(np.loadtxt(f'../../../interference/datasets/ciao/save3/ciao10_full_mf_exposed_data.txt')).long().to(device)"
   ]
  },
  {
   "cell_type": "code",
   "execution_count": null,
   "id": "156e2c63720033bf",
   "metadata": {
    "ExecuteTime": {
     "end_time": "2024-01-06T04:39:53.302897400Z",
     "start_time": "2024-01-06T04:39:53.285216500Z"
    },
    "collapsed": false
   },
   "outputs": [],
   "source": [
    "print('reced_data', reced_data, reced_data.shape)"
   ]
  },
  {
   "cell_type": "code",
   "execution_count": null,
   "id": "b8ee827677b16f06",
   "metadata": {
    "ExecuteTime": {
     "end_time": "2024-01-06T04:39:53.312619Z",
     "start_time": "2024-01-06T04:39:53.303894Z"
    },
    "collapsed": false
   },
   "outputs": [],
   "source": [
    "class click_conv(MessagePassing):\n",
    "    def __init__(self):\n",
    "        super().__init__(aggr='add')  # \"Add\" aggregation (Step 5).\n",
    "\n",
    "        # [num_edge, 2]\n",
    "        trust_network = np.loadtxt(f'../../datasets/{data_name}/processed_trust{core}.txt').astype(int)\n",
    "        print('trust_network', trust_network, trust_network.shape)\n",
    "        # [2, num_edge] the first row contains source nodes, the second row contains target nodes\n",
    "        self.edge_index = torch.from_numpy(trust_network[:, [1, 0]]).long().t().contiguous().to(device)\n",
    "\n",
    "        user_emb_all = torch.from_numpy(np.loadtxt(f'../para/{data_name}{core}{completion_dim}_{completion_type}_user_emb.txt')).float().to(device)\n",
    "        item_emb_all = torch.from_numpy(np.loadtxt(f'../para/{data_name}{core}{completion_dim}_{completion_type}_item_emb.txt')).float().to(device)\n",
    "        \n",
    "        # user_emb_all = torch.from_numpy(np.loadtxt(f'../../../interference/simulation/para/save3/ciao10_full_mf_user_emb.txt')).float().to(device)\n",
    "        # item_emb_all = torch.from_numpy(np.loadtxt(f'../../../interference/simulation/para/save3/ciao10_full_mf_item_emb.txt')).float().to(device)\n",
    "        \n",
    "        print('user_emb_all', user_emb_all, user_emb_all.shape, torch.norm(user_emb_all, dim=1), torch.norm(user_emb_all, dim=1).max(), torch.norm(user_emb_all, dim=1).min())\n",
    "        print('item_emb_all', item_emb_all, item_emb_all.shape, torch.norm(item_emb_all, dim=1), torch.norm(item_emb_all, dim=1).max(), torch.norm(item_emb_all, dim=1).min())\n",
    "\n",
    "        \n",
    "        self.user_esmb_all = user_emb_all\n",
    "\n",
    "        self.num_users = len(user_emb_all)\n",
    "        self.num_items = len(item_emb_all)\n",
    "\n",
    "        print('num_users', self.num_users)\n",
    "        print('num_items', self.num_items)\n",
    "\n",
    "        # [num_users, 1]\n",
    "        self.full_rating = torch.matmul(user_emb_all, item_emb_all.t())\n",
    "        print('full_rating', self.full_rating)\n",
    "        # [num_edge, 1]\n",
    "        self.sim_per_edge = torch.sigmoid((user_emb_all[self.edge_index[0]] * user_emb_all[self.edge_index[1]]).sum(dim=1, keepdim=True) * att_scale)\n",
    "        self.in_degree = torch_geometric.utils.degree(self.edge_index[1], self.num_users).float()\n",
    "        self.in_norm = torch.pow(self.in_degree, power)\n",
    "        self.in_norm[self.in_norm == 0.0] = 1.0\n",
    "\n",
    "        print('in_degree', self.in_degree, self.in_degree.shape)\n",
    "        print('in_norm', self.in_norm, self.in_norm.shape)\n",
    "\n",
    "\n",
    "    def click_forward(self, oi, target_item):\n",
    "        # [num_users, sample_size]\n",
    "        indi_prefer = ((self.full_rating[:, target_item] - 3.0) * indi_scale).reshape(-1, 1)\n",
    "        neigh_prefer = ((self.full_rating[:, target_item] - 3.0) * neigh_scale).reshape(-1, 1)\n",
    "\n",
    "        prefer_factor = oi * neigh_prefer\n",
    "\n",
    "        # [num_users, sample_size]\n",
    "        neigh_effect = self.propagate(edge_index=self.edge_index, x=prefer_factor, coeff=self.sim_per_edge)\n",
    "        # [num_users, sample_size]\n",
    "        temp_click_prob = indi_prefer + beta * neigh_effect\n",
    "        click_prob = torch.sigmoid(temp_click_prob)\n",
    "\n",
    "\n",
    "        return click_prob.reshape(1, -1)[0], temp_click_prob.reshape(1, -1)[0], indi_prefer.reshape(1, -1)[0], (beta * neigh_effect).reshape(1, -1)[0]\n",
    "\n",
    "\n",
    "    def message(self, x_j, coeff):\n",
    "        return x_j * coeff / self.in_norm[self.edge_index[1]].reshape(-1, 1)\n",
    "\n",
    "\n"
   ]
  },
  {
   "cell_type": "code",
   "execution_count": null,
   "id": "38b993dde003e580",
   "metadata": {
    "ExecuteTime": {
     "end_time": "2024-01-06T04:40:00.586600600Z",
     "start_time": "2024-01-06T04:39:53.316608100Z"
    },
    "collapsed": false
   },
   "outputs": [],
   "source": [
    "click_model = click_conv()\n",
    "click_prob = torch.zeros(click_model.num_users, click_model.num_items, device=device)\n",
    "non_restrict_prob = torch.zeros(click_model.num_users, click_model.num_items, device=device)\n",
    "indi_prefer_cache = torch.zeros(click_model.num_users, click_model.num_items, device=device)\n",
    "neigh_prefer_cache = torch.zeros(click_model.num_users, click_model.num_items, device=device)\n",
    "for i in range(click_model.num_items):\n",
    "    oi = torch.zeros(click_model.num_users, 1, device=device)\n",
    "    i_reced = reced_data[reced_data[:, 1]==i]\n",
    "    oi[i_reced[:, 0]] = 1.0\n",
    "    click_prob[:, i], non_restrict_prob[:, i], indi_prefer_cache[:, i], neigh_prefer_cache[:, i] = click_model.click_forward(oi, i)\n",
    "print('click_prob', click_prob)\n",
    "print('non_restrict_prob', non_restrict_prob)\n",
    "print('indi_prefer_cache', indi_prefer_cache)\n",
    "print('neigh_prefer_cache', neigh_prefer_cache)"
   ]
  },
  {
   "cell_type": "code",
   "execution_count": null,
   "id": "13f386be306aebef",
   "metadata": {
    "ExecuteTime": {
     "end_time": "2024-01-06T04:40:00.606481500Z",
     "start_time": "2024-01-06T04:40:00.588590600Z"
    },
    "collapsed": false
   },
   "outputs": [],
   "source": [
    "reced_click_prob = click_prob[reced_data[:, 0], reced_data[:, 1]]\n",
    "assert torch.any(reced_click_prob <= 1.0) or torch.any(reced_click_prob >= 0.0)\n",
    "reced_non_restrict_prob = non_restrict_prob[reced_data[:, 0], reced_data[:, 1]]\n",
    "reced_indi_prefer = indi_prefer_cache[reced_data[:, 0], reced_data[:, 1]]\n",
    "reced_neigh_prefer = neigh_prefer_cache[reced_data[:, 0], reced_data[:, 1]]\n",
    "label = (reced_click_prob>0.5).float()\n",
    "print('reced_click_prob', reced_click_prob, reced_click_prob.min(), reced_click_prob.max())\n",
    "print('reced_non_restrict_prob', reced_non_restrict_prob, reced_non_restrict_prob.min(), reced_non_restrict_prob.max())\n",
    "print('reced_indi_prefer', reced_indi_prefer, reced_indi_prefer.min(), reced_indi_prefer.max())\n",
    "print('reced_neigh_prefer', reced_neigh_prefer, reced_neigh_prefer.min(), reced_neigh_prefer.max())"
   ]
  },
  {
   "cell_type": "code",
   "execution_count": null,
   "id": "1b1d62ce3632c4e5",
   "metadata": {
    "ExecuteTime": {
     "end_time": "2024-01-06T04:40:01.261690200Z",
     "start_time": "2024-01-06T04:40:01.257674100Z"
    },
    "collapsed": false
   },
   "outputs": [],
   "source": [
    "pos = label.sum()\n",
    "neg = (len(reced_data) - label.sum())\n",
    "print(pos, neg)"
   ]
  },
  {
   "cell_type": "code",
   "execution_count": null,
   "id": "4c2018d56bae66a7",
   "metadata": {
    "ExecuteTime": {
     "end_time": "2024-01-06T04:40:01.279509800Z",
     "start_time": "2024-01-06T04:40:01.262688300Z"
    },
    "collapsed": false
   },
   "outputs": [],
   "source": [
    "reced_data = reced_data.cpu().numpy()\n",
    "label = label.cpu().numpy()\n",
    "reced_click_prob = reced_click_prob.cpu().numpy()\n",
    "reced_click_prob = np.hstack((reced_data, reced_click_prob.reshape(-1, 1)))\n",
    "\n",
    "reced_non_restrict_prob = reced_non_restrict_prob.cpu().numpy()\n",
    "reced_non_restrict_prob = np.hstack((reced_data, reced_non_restrict_prob.reshape(-1, 1)))\n",
    "\n",
    "labeled_gen_data = np.hstack((reced_data, label.reshape(-1, 1)))\n",
    "print('labeled_gen_data', labeled_gen_data, labeled_gen_data.shape)\n",
    "print('reced_click_prob', reced_click_prob, reced_click_prob.shape)\n",
    "print('reced_non_restrict_prob', reced_non_restrict_prob, reced_non_restrict_prob.shape)"
   ]
  },
  {
   "cell_type": "code",
   "execution_count": null,
   "id": "9c7822afdda5c658",
   "metadata": {
    "ExecuteTime": {
     "end_time": "2024-01-06T04:40:03.632223100Z",
     "start_time": "2024-01-06T04:40:01.281504300Z"
    },
    "collapsed": false
   },
   "outputs": [],
   "source": [
    "if beta == 0.0:\n",
    "    np.savetxt(f'../../datasets/{data_name}/{data_name}{core}{alpha1}{alpha2}{alpha3}{indi_scale}{neigh_scale}{att_scale}{beta}{power}_{completion_type}_indi_sim_data.txt', labeled_gen_data, fmt='%d')\n",
    "    np.savetxt(f'../../datasets/{data_name}/{data_name}{core}{alpha1}{alpha2}{alpha3}{indi_scale}{neigh_scale}{att_scale}{beta}{power}_{completion_type}_indi_sim_data_wrt_click_prob.txt', reced_click_prob)\n",
    "    np.savetxt(f'../../datasets/{data_name}/{data_name}{core}{alpha1}{alpha2}{alpha3}{indi_scale}{neigh_scale}{att_scale}{beta}{power}_{completion_type}_indi_sim_data_wrt_non_restrict_click_prob.txt', reced_non_restrict_prob)\n",
    "else:\n",
    "    np.savetxt(f'../../datasets/{data_name}/{data_name}{core}{alpha1}{alpha2}{alpha3}{indi_scale}{neigh_scale}{att_scale}{beta}{power}_{completion_type}_sim_data.txt', labeled_gen_data, fmt='%d')\n",
    "    np.savetxt(f'../../datasets/{data_name}/{data_name}{core}{alpha1}{alpha2}{alpha3}{indi_scale}{neigh_scale}{att_scale}{beta}{power}_{completion_type}_sim_data_wrt_click_prob.txt', reced_click_prob)\n",
    "    np.savetxt(f'../../datasets/{data_name}/{data_name}{core}{alpha1}{alpha2}{alpha3}{indi_scale}{neigh_scale}{att_scale}{beta}{power}_{completion_type}_sim_data_wrt_non_restrict_click_prob.txt', reced_non_restrict_prob)\n"
   ]
  },
  {
   "cell_type": "code",
   "execution_count": null,
   "id": "81d4ab308458ec8f",
   "metadata": {
    "ExecuteTime": {
     "end_time": "2024-01-06T04:40:03.746251100Z",
     "start_time": "2024-01-06T04:40:03.632223100Z"
    },
    "collapsed": false
   },
   "outputs": [],
   "source": [
    "plt.hist(click_model.sim_per_edge.cpu().numpy(), bins=20)"
   ]
  },
  {
   "cell_type": "code",
   "execution_count": null,
   "id": "7d9ac863e91e3c29",
   "metadata": {
    "ExecuteTime": {
     "end_time": "2024-01-06T04:40:03.753251700Z",
     "start_time": "2024-01-06T04:40:03.745254200Z"
    },
    "collapsed": false
   },
   "outputs": [],
   "source": [
    "click_model.sim_per_edge.min()"
   ]
  }
 ],
 "metadata": {
  "kernelspec": {
   "display_name": "usual",
   "language": "python",
   "name": "usual"
  },
  "language_info": {
   "codemirror_mode": {
    "name": "ipython",
    "version": 3
   },
   "file_extension": ".py",
   "mimetype": "text/x-python",
   "name": "python",
   "nbconvert_exporter": "python",
   "pygments_lexer": "ipython3",
   "version": "3.11.4"
  }
 },
 "nbformat": 4,
 "nbformat_minor": 5
}
