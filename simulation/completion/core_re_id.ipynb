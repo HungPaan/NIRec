{
 "cells": [
  {
   "cell_type": "code",
   "execution_count": 23,
   "id": "4d837b88",
   "metadata": {
    "ExecuteTime": {
     "end_time": "2023-12-25T06:28:49.457336100Z",
     "start_time": "2023-12-25T06:28:49.407270200Z"
    }
   },
   "outputs": [],
   "source": [
    "import numpy as np\n",
    "import scipy.io as scio\n",
    "import pandas as pd\n",
    "import torch\n",
    "import random"
   ]
  },
  {
   "cell_type": "code",
   "execution_count": 24,
   "id": "ae922bbddcb72104",
   "metadata": {
    "ExecuteTime": {
     "end_time": "2023-12-25T06:28:49.459330Z",
     "start_time": "2023-12-25T06:28:49.410249600Z"
    },
    "collapsed": false
   },
   "outputs": [],
   "source": [
    "def set_seed(seed):\n",
    "    random.seed(seed)\n",
    "    np.random.seed(seed)\n",
    "    torch.manual_seed(seed)\n",
    "    torch.cuda.manual_seed(seed)\n",
    "    torch.cuda.manual_seed_all(seed)\n",
    "set_seed(0)"
   ]
  },
  {
   "cell_type": "code",
   "execution_count": 25,
   "id": "e0af9f58141fa24",
   "metadata": {
    "ExecuteTime": {
     "end_time": "2023-12-25T06:28:49.459330Z",
     "start_time": "2023-12-25T06:28:49.415905800Z"
    },
    "collapsed": false
   },
   "outputs": [],
   "source": [
    "data_name = 'ciao'\n",
    "core = 10"
   ]
  },
  {
   "cell_type": "code",
   "execution_count": 26,
   "id": "ff10d27f",
   "metadata": {
    "ExecuteTime": {
     "end_time": "2023-12-25T06:28:49.500775Z",
     "start_time": "2023-12-25T06:28:49.421398900Z"
    }
   },
   "outputs": [
    {
     "name": "stdout",
     "output_type": "stream",
     "text": [
      "rating_data [[    1     1     2]\n",
      " [    1     2     2]\n",
      " [    1     3     2]\n",
      " ...\n",
      " [22166 43538     5]\n",
      " [22166 38711     4]\n",
      " [22166 41790     3]] (922267, 3)\n",
      "trust_data [[15373  9831]\n",
      " [ 4247  9831]\n",
      " [ 4644  9831]\n",
      " ...\n",
      " [13181 15645]\n",
      " [  897  8000]\n",
      " [ 8000   897]] (355754, 2)\n",
      "224\n",
      "(array([  1118,   2625,   3690,   6392,  10245,  12065,  13397,  15817,\n",
      "        19127,  22816,  25560,  30113,  32514,  32973,  35371,  39877,\n",
      "        44746,  46606,  48898,  52984,  57827,  68059,  70712,  72358,\n",
      "        72809,  72922,  74135,  82883,  84110,  87138,  95457,  97295,\n",
      "        97599, 107268, 107484, 110258, 119254, 123667, 125582, 126142,\n",
      "       126278, 126992, 127235, 130044, 131075, 134137, 134684, 135505,\n",
      "       137319, 137650, 137863, 138070, 143341, 143471, 149046, 149701,\n",
      "       149759, 149929, 150159, 150380, 150525, 152332, 152948, 153432,\n",
      "       153502, 156511, 156637, 158670, 159047, 159589, 159802, 160700,\n",
      "       161884, 164373, 164932, 168502, 169586, 172927, 174288, 174651,\n",
      "       175318, 185158, 187492, 188668, 189072, 189421, 190389, 192893,\n",
      "       193032, 197197, 198125, 199190, 199816, 199838, 203709, 205072,\n",
      "       206993, 212526, 213113, 214761, 216945, 217516, 218226, 218472,\n",
      "       219823, 226386, 227030, 229399, 229592, 229835, 229992, 230101,\n",
      "       230557, 230774, 231063, 231869, 233915, 235117, 235572, 236569,\n",
      "       238736, 239368, 244975, 253676, 255596, 256480, 257145, 257428,\n",
      "       261051, 262747, 264342, 264700, 265592, 266459, 266580, 267956,\n",
      "       268807, 269489, 269629, 269633, 270031, 270057, 270069, 277132,\n",
      "       277483, 278401, 279233, 281398, 283291, 283485, 284554, 285078,\n",
      "       286730, 287199, 288975, 291926, 297306, 300514, 305639, 308278,\n",
      "       311543, 316425, 317185, 322763, 326252, 330509, 330840, 331382,\n",
      "       331648, 332061, 332192, 332221, 332262, 332643, 333415, 334673,\n",
      "       334748, 334776, 335001, 335011, 335205, 335272, 335321, 335381,\n",
      "       335654, 335930, 336120, 336449, 336480, 336797, 337099, 337238,\n",
      "       337239, 337477, 337713, 337726, 337741, 337865, 337881, 338206,\n",
      "       338223, 338402, 338437, 338470, 338524, 338562, 338580, 338633,\n",
      "       338638, 338655, 338679, 338695, 338720, 339019, 339139, 339420,\n",
      "       339789, 339835, 347121, 347297, 350533, 350805, 355707, 355748],\n",
      "      dtype=int64),)\n",
      "[[  1118]\n",
      " [  2625]\n",
      " [  3690]\n",
      " [  6392]\n",
      " [ 10245]\n",
      " [ 12065]\n",
      " [ 13397]\n",
      " [ 15817]\n",
      " [ 19127]\n",
      " [ 22816]\n",
      " [ 25560]\n",
      " [ 30113]\n",
      " [ 32514]\n",
      " [ 32973]\n",
      " [ 35371]\n",
      " [ 39877]\n",
      " [ 44746]\n",
      " [ 46606]\n",
      " [ 48898]\n",
      " [ 52984]\n",
      " [ 57827]\n",
      " [ 68059]\n",
      " [ 70712]\n",
      " [ 72358]\n",
      " [ 72809]\n",
      " [ 72922]\n",
      " [ 74135]\n",
      " [ 82883]\n",
      " [ 84110]\n",
      " [ 87138]\n",
      " [ 95457]\n",
      " [ 97295]\n",
      " [ 97599]\n",
      " [107268]\n",
      " [107484]\n",
      " [110258]\n",
      " [119254]\n",
      " [123667]\n",
      " [125582]\n",
      " [126142]\n",
      " [126278]\n",
      " [126992]\n",
      " [127235]\n",
      " [130044]\n",
      " [131075]\n",
      " [134137]\n",
      " [134684]\n",
      " [135505]\n",
      " [137319]\n",
      " [137650]\n",
      " [137863]\n",
      " [138070]\n",
      " [143341]\n",
      " [143471]\n",
      " [149046]\n",
      " [149701]\n",
      " [149759]\n",
      " [149929]\n",
      " [150159]\n",
      " [150380]\n",
      " [150525]\n",
      " [152332]\n",
      " [152948]\n",
      " [153432]\n",
      " [153502]\n",
      " [156511]\n",
      " [156637]\n",
      " [158670]\n",
      " [159047]\n",
      " [159589]\n",
      " [159802]\n",
      " [160700]\n",
      " [161884]\n",
      " [164373]\n",
      " [164932]\n",
      " [168502]\n",
      " [169586]\n",
      " [172927]\n",
      " [174288]\n",
      " [174651]\n",
      " [175318]\n",
      " [185158]\n",
      " [187492]\n",
      " [188668]\n",
      " [189072]\n",
      " [189421]\n",
      " [190389]\n",
      " [192893]\n",
      " [193032]\n",
      " [197197]\n",
      " [198125]\n",
      " [199190]\n",
      " [199816]\n",
      " [199838]\n",
      " [203709]\n",
      " [205072]\n",
      " [206993]\n",
      " [212526]\n",
      " [213113]\n",
      " [214761]\n",
      " [216945]\n",
      " [217516]\n",
      " [218226]\n",
      " [218472]\n",
      " [219823]\n",
      " [226386]\n",
      " [227030]\n",
      " [229399]\n",
      " [229592]\n",
      " [229835]\n",
      " [229992]\n",
      " [230101]\n",
      " [230557]\n",
      " [230774]\n",
      " [231063]\n",
      " [231869]\n",
      " [233915]\n",
      " [235117]\n",
      " [235572]\n",
      " [236569]\n",
      " [238736]\n",
      " [239368]\n",
      " [244975]\n",
      " [253676]\n",
      " [255596]\n",
      " [256480]\n",
      " [257145]\n",
      " [257428]\n",
      " [261051]\n",
      " [262747]\n",
      " [264342]\n",
      " [264700]\n",
      " [265592]\n",
      " [266459]\n",
      " [266580]\n",
      " [267956]\n",
      " [268807]\n",
      " [269489]\n",
      " [269629]\n",
      " [269633]\n",
      " [270031]\n",
      " [270057]\n",
      " [270069]\n",
      " [277132]\n",
      " [277483]\n",
      " [278401]\n",
      " [279233]\n",
      " [281398]\n",
      " [283291]\n",
      " [283485]\n",
      " [284554]\n",
      " [285078]\n",
      " [286730]\n",
      " [287199]\n",
      " [288975]\n",
      " [291926]\n",
      " [297306]\n",
      " [300514]\n",
      " [305639]\n",
      " [308278]\n",
      " [311543]\n",
      " [316425]\n",
      " [317185]\n",
      " [322763]\n",
      " [326252]\n",
      " [330509]\n",
      " [330840]\n",
      " [331382]\n",
      " [331648]\n",
      " [332061]\n",
      " [332192]\n",
      " [332221]\n",
      " [332262]\n",
      " [332643]\n",
      " [333415]\n",
      " [334673]\n",
      " [334748]\n",
      " [334776]\n",
      " [335001]\n",
      " [335011]\n",
      " [335205]\n",
      " [335272]\n",
      " [335321]\n",
      " [335381]\n",
      " [335654]\n",
      " [335930]\n",
      " [336120]\n",
      " [336449]\n",
      " [336480]\n",
      " [336797]\n",
      " [337099]\n",
      " [337238]\n",
      " [337239]\n",
      " [337477]\n",
      " [337713]\n",
      " [337726]\n",
      " [337741]\n",
      " [337865]\n",
      " [337881]\n",
      " [338206]\n",
      " [338223]\n",
      " [338402]\n",
      " [338437]\n",
      " [338470]\n",
      " [338524]\n",
      " [338562]\n",
      " [338580]\n",
      " [338633]\n",
      " [338638]\n",
      " [338655]\n",
      " [338679]\n",
      " [338695]\n",
      " [338720]\n",
      " [339019]\n",
      " [339139]\n",
      " [339420]\n",
      " [339789]\n",
      " [339835]\n",
      " [347121]\n",
      " [347297]\n",
      " [350533]\n",
      " [350805]\n",
      " [355707]\n",
      " [355748]]\n",
      "0\n",
      "trust_data [[15373  9831]\n",
      " [ 4247  9831]\n",
      " [ 4644  9831]\n",
      " ...\n",
      " [13181 15645]\n",
      " [  897  8000]\n",
      " [ 8000   897]] (355530, 2)\n"
     ]
    }
   ],
   "source": [
    "if data_name == 'epinions' or data_name == 'ciao':\n",
    "    rating_data_mat = scio.loadmat(f'../../datasets/{data_name}/rating.mat')\n",
    "    trust_data_mat = scio.loadmat(f'../../datasets/{data_name}/trustnetwork.mat')\n",
    "    #print('rating_data_mat', rating_data_mat)\n",
    "    #print('trust_data_mat', trust_data_mabt)\n",
    "\n",
    "    rating_data = rating_data_mat['rating'].astype('long')\n",
    "    rating_data = rating_data[:, [0, 1, 3]]\n",
    "    trust_data = trust_data_mat['trustnetwork'].astype('long')\n",
    "\n",
    "elif data_name == 'filmtrust':\n",
    "    rating_data = np.loadtxt(f'../../datasets/{data_name}/ratings.txt')\n",
    "    trust_data = np.loadtxt(f'../../datasets/{data_name}/trust.txt').astype('int')\n",
    "    trust_data = trust_data[:, [0, 1]]\n",
    "\n",
    "\n",
    "print('rating_data', rating_data, rating_data.shape)\n",
    "print('trust_data', trust_data, trust_data.shape)\n",
    "print((trust_data[:,0]==trust_data[:,1]).sum())\n",
    "print(np.where(trust_data[:, 0]==trust_data[:,1]))\n",
    "print(np.argwhere(trust_data[:, 0]==trust_data[:, 1]))\n",
    "\n",
    "trust_data = np.delete(trust_data, np.argwhere(trust_data[:, 0]==trust_data[:, 1]).reshape(1, -1)[0], 0)\n",
    "print((trust_data[:,0]==trust_data[:,1]).sum())\n",
    "print('trust_data', trust_data, trust_data.shape)\n",
    "\n",
    "\n",
    "\n"
   ]
  },
  {
   "cell_type": "code",
   "execution_count": 27,
   "id": "fe17b6937b1ad900",
   "metadata": {
    "ExecuteTime": {
     "end_time": "2023-12-25T06:28:49.501772900Z",
     "start_time": "2023-12-25T06:28:49.479838400Z"
    },
    "collapsed": false
   },
   "outputs": [
    {
     "name": "stdout",
     "output_type": "stream",
     "text": [
      "[[15373  9831]\n",
      " [ 4247  9831]\n",
      " [ 4644  9831]\n",
      " ...\n",
      " [13181 15645]\n",
      " [  897  8000]\n",
      " [ 8000   897]] (355503, 2)\n"
     ]
    }
   ],
   "source": [
    "\n",
    "df_trust_for_unique = pd.DataFrame(trust_data, columns=['user_id1', 'user_id2'])\n",
    "\n",
    "\n",
    "df_trust_unique = df_trust_for_unique.drop_duplicates(subset=['user_id1', 'user_id2'])\n",
    "\n",
    "trust_data = df_trust_unique.to_numpy()\n",
    "\n",
    "print(trust_data, trust_data.shape)"
   ]
  },
  {
   "cell_type": "code",
   "execution_count": 28,
   "id": "cf24a538b6bc8821",
   "metadata": {
    "ExecuteTime": {
     "end_time": "2023-12-25T06:28:49.588317900Z",
     "start_time": "2023-12-25T06:28:49.501772900Z"
    },
    "collapsed": false
   },
   "outputs": [
    {
     "name": "stdout",
     "output_type": "stream",
     "text": [
      "[[    1     1     2]\n",
      " [    1     2     2]\n",
      " [    1     3     2]\n",
      " ...\n",
      " [22166 43538     5]\n",
      " [22166 38711     4]\n",
      " [22166 41790     3]] (912441, 3)\n"
     ]
    }
   ],
   "source": [
    "\n",
    "df_rating_for_unique = pd.DataFrame(rating_data, columns=['user_id', 'item_id', 'value'])\n",
    "\n",
    "\n",
    "df_unique = df_rating_for_unique.drop_duplicates(subset=['user_id', 'item_id'])\n",
    "\n",
    "\n",
    "rating_data = df_unique.to_numpy()\n",
    "\n",
    "print(rating_data, rating_data.shape)"
   ]
  },
  {
   "cell_type": "code",
   "execution_count": 29,
   "id": "977d9420",
   "metadata": {
    "ExecuteTime": {
     "end_time": "2023-12-25T06:28:49.838688800Z",
     "start_time": "2023-12-25T06:28:49.565380300Z"
    }
   },
   "outputs": [
    {
     "name": "stdout",
     "output_type": "stream",
     "text": [
      "df          user   item  rating\n",
      "0           1      1       2\n",
      "1           1      2       2\n",
      "2           1      3       2\n",
      "3           1      4       5\n",
      "4           1      5       3\n",
      "...       ...    ...     ...\n",
      "912436  22166  83922       4\n",
      "912437  22166  23442       4\n",
      "912438  22166  43538       5\n",
      "912439  22166  38711       4\n",
      "912440  22166  41790       3\n",
      "\n",
      "[912441 rows x 3 columns]\n",
      "rating_data [[    1     1     2]\n",
      " [    1     2     2]\n",
      " [    1     3     2]\n",
      " ...\n",
      " [22164  1628     5]\n",
      " [22164 17247     4]\n",
      " [22164 17137     4]] (352598, 3)\n"
     ]
    }
   ],
   "source": [
    "df = pd.DataFrame(rating_data, columns=['user', 'item', 'rating'])\n",
    "print('df', df)\n",
    "while True:\n",
    "\n",
    "    user_counts = df['user'].value_counts()\n",
    "\n",
    "    item_counts = df['item'].value_counts()\n",
    "\n",
    "    valid_users = user_counts[user_counts >= core].index\n",
    "    valid_items = item_counts[item_counts >= core].index\n",
    "\n",
    "\n",
    "    filtered_df = df[df['user'].isin(valid_users)]\n",
    "    filtered_df = filtered_df[filtered_df['item'].isin(valid_items)]\n",
    "\n",
    "    if filtered_df['user'].value_counts().min() == core and filtered_df['item'].value_counts().min() == core:\n",
    "        break\n",
    "\n",
    "    df = filtered_df\n",
    "\n",
    "rating_data = filtered_df.values\n",
    "print('rating_data', rating_data, rating_data.shape)\n"
   ]
  },
  {
   "cell_type": "code",
   "execution_count": 30,
   "id": "75d72b3d",
   "metadata": {
    "ExecuteTime": {
     "end_time": "2023-12-25T06:28:49.848512500Z",
     "start_time": "2023-12-25T06:28:49.838688800Z"
    }
   },
   "outputs": [
    {
     "name": "stdout",
     "output_type": "stream",
     "text": [
      "user_counts 15827    1018\n",
      "2760      788\n",
      "5642      698\n",
      "20241     680\n",
      "2034      586\n",
      "         ... \n",
      "13037      10\n",
      "13023      10\n",
      "13022      10\n",
      "13020      10\n",
      "22164      10\n",
      "Name: user, Length: 12168, dtype: int64\n",
      "item_counts 122      1512\n",
      "633      1101\n",
      "51       1015\n",
      "666       778\n",
      "386       697\n",
      "         ... \n",
      "50927      10\n",
      "50894      10\n",
      "8616       10\n",
      "50718      10\n",
      "28249      10\n",
      "Name: item, Length: 11283, dtype: int64\n"
     ]
    }
   ],
   "source": [
    "df_check = pd.DataFrame(rating_data, columns=['user', 'item', 'rating'])\n",
    "user_counts = df_check['user'].value_counts()\n",
    "item_counts = df_check['item'].value_counts()\n",
    "print('user_counts', user_counts)\n",
    "print('item_counts', item_counts)"
   ]
  },
  {
   "cell_type": "code",
   "execution_count": 31,
   "id": "72d92c11",
   "metadata": {
    "ExecuteTime": {
     "end_time": "2023-12-25T06:28:49.901449300Z",
     "start_time": "2023-12-25T06:28:49.850508Z"
    }
   },
   "outputs": [
    {
     "name": "stdout",
     "output_type": "stream",
     "text": [
      "trust_users_flag [0. 1. 1. ... 1. 1. 1.] 18069.0\n"
     ]
    }
   ],
   "source": [
    "max_user = int(max(np.max(trust_data), np.max(rating_data[:,0])))\n",
    "trust_users_flag = np.zeros(max_user+1)\n",
    "trust_users_flag[np.unique(trust_data[:, 1])] = 1.0\n",
    "trust_users_flag[np.unique(trust_data[:, 0])] = 1.0\n",
    "print('trust_users_flag', trust_users_flag, trust_users_flag.sum())"
   ]
  },
  {
   "cell_type": "code",
   "execution_count": 32,
   "id": "3d994ae5",
   "metadata": {
    "ExecuteTime": {
     "end_time": "2023-12-25T06:28:49.904948400Z",
     "start_time": "2023-12-25T06:28:49.875517200Z"
    }
   },
   "outputs": [
    {
     "name": "stdout",
     "output_type": "stream",
     "text": [
      "trust_unique_users [    1     2     4 ... 22164 22165 22166] [    1     2     4 ... 22164 22165 22166] 18069\n"
     ]
    }
   ],
   "source": [
    "trust_unique_users = np.nonzero(trust_users_flag)[0]\n",
    "trust_unique_users_check = np.unique(trust_data.reshape(1, -1)[0])\n",
    "print('trust_unique_users', trust_unique_users, trust_unique_users_check, (trust_unique_users_check == trust_unique_users).sum())"
   ]
  },
  {
   "cell_type": "code",
   "execution_count": 33,
   "id": "53f5c995",
   "metadata": {
    "ExecuteTime": {
     "end_time": "2023-12-25T06:28:49.909496400Z",
     "start_time": "2023-12-25T06:28:49.905945800Z"
    }
   },
   "outputs": [
    {
     "name": "stdout",
     "output_type": "stream",
     "text": [
      "rating_users_flag [0. 1. 1. ... 1. 0. 0.] 12168.0\n"
     ]
    }
   ],
   "source": [
    "rating_users_flag = np.zeros(max_user+1)\n",
    "rating_users_flag[rating_data[:, 0].astype('int')] = 1.0\n",
    "print('rating_users_flag', rating_users_flag, rating_users_flag.sum())\n"
   ]
  },
  {
   "cell_type": "code",
   "execution_count": 34,
   "id": "808b4d26eed415ef",
   "metadata": {
    "ExecuteTime": {
     "end_time": "2023-12-25T06:28:49.918146900Z",
     "start_time": "2023-12-25T06:28:49.910493700Z"
    },
    "collapsed": false
   },
   "outputs": [
    {
     "name": "stdout",
     "output_type": "stream",
     "text": [
      "rating_unique_users [    1     2     3 ... 22156 22162 22164] (array([    1,     2,     3, ..., 22156, 22162, 22164], dtype=int64),) 12168\n"
     ]
    }
   ],
   "source": [
    "rating_unique_users = np.unique(rating_data[:,0])\n",
    "rating_unique_users_check = np.nonzero(rating_users_flag)\n",
    "print('rating_unique_users', rating_unique_users, rating_unique_users_check, (rating_unique_users==rating_unique_users_check).sum())"
   ]
  },
  {
   "cell_type": "code",
   "execution_count": 35,
   "id": "fa533517",
   "metadata": {
    "ExecuteTime": {
     "end_time": "2023-12-25T06:29:26.879820300Z",
     "start_time": "2023-12-25T06:28:49.920136300Z"
    }
   },
   "outputs": [
    {
     "name": "stdout",
     "output_type": "stream",
     "text": [
      "trust_data [[ 4644  5369]\n",
      " [12037  5369]\n",
      " [ 5493  5369]\n",
      " ...\n",
      " [ 6715  7812]\n",
      " [ 6525  7812]\n",
      " [13181 15645]] (123187, 2)\n"
     ]
    }
   ],
   "source": [
    "for tid in trust_unique_users:\n",
    "    if rating_users_flag[tid] == 0:\n",
    "        trust_data = np.delete(trust_data, np.argwhere(trust_data[:, 0]==tid).reshape(1, -1)[0], 0)\n",
    "        trust_data = np.delete(trust_data, np.argwhere(trust_data[:, 1]==tid).reshape(1, -1)[0], 0)\n",
    "\n",
    "print('trust_data', trust_data, trust_data.shape)\n"
   ]
  },
  {
   "cell_type": "code",
   "execution_count": 36,
   "id": "df9d3870",
   "metadata": {
    "ExecuteTime": {
     "end_time": "2023-12-25T06:29:26.896226700Z",
     "start_time": "2023-12-25T06:29:26.882849800Z"
    }
   },
   "outputs": [
    {
     "name": "stdout",
     "output_type": "stream",
     "text": [
      "trust_users_flag2 9185.0\n",
      "rating_users_flag2 [0. 1. 1. ... 1. 0. 0.] 12168.0\n",
      "9185.0\n",
      "-2983.0\n"
     ]
    }
   ],
   "source": [
    "trust_users_flag2 = np.zeros(max_user+1)\n",
    "trust_users_flag2[np.unique(trust_data[:, 1])] = 1\n",
    "trust_users_flag2[np.unique(trust_data[:, 0])] = 1\n",
    "print('trust_users_flag2', trust_users_flag2.sum())\n",
    "\n",
    "rating_users_flag2 = np.zeros(max_user+1)\n",
    "rating_users_flag2[np.unique(rating_data[:, 0]).astype('int')] = 1\n",
    "print('rating_users_flag2', rating_users_flag2, rating_users_flag2.sum())\n",
    "\n",
    "print((trust_users_flag2 * rating_users_flag2).sum())\n",
    "print((trust_users_flag2 - rating_users_flag2).sum())\n",
    "\n"
   ]
  },
  {
   "cell_type": "code",
   "execution_count": 37,
   "id": "205e0f17",
   "metadata": {
    "ExecuteTime": {
     "end_time": "2023-12-25T06:29:29.371704800Z",
     "start_time": "2023-12-25T06:29:26.897223600Z"
    }
   },
   "outputs": [],
   "source": [
    "rating_unique_users = np.unique(rating_data[:, 0])\n",
    "for i in range(len(rating_unique_users)):\n",
    "    origin_id = rating_unique_users[i]\n",
    "    trust_data[:,0][np.where(trust_data[:,0] == origin_id)[0]] = i\n",
    "    trust_data[:,1][np.where(trust_data[:,1] == origin_id)[0]] = i\n",
    "    rating_data[:, 0][np.where(rating_data[:, 0]== origin_id)[0]] = i"
   ]
  },
  {
   "cell_type": "code",
   "execution_count": 38,
   "id": "37637887",
   "metadata": {
    "ExecuteTime": {
     "end_time": "2023-12-25T06:29:30.189394Z",
     "start_time": "2023-12-25T06:29:29.373700300Z"
    }
   },
   "outputs": [],
   "source": [
    "rating_unique_items = np.unique(rating_data[:, 1])\n",
    "for i in range(len(rating_unique_items)):\n",
    "    origin_item_id = rating_unique_items[i]\n",
    "    rating_data[:, 1][np.where(rating_data[:, 1]== origin_item_id)[0]] = i"
   ]
  },
  {
   "cell_type": "code",
   "execution_count": 39,
   "id": "d7f9a028",
   "metadata": {
    "ExecuteTime": {
     "end_time": "2023-12-25T06:29:30.207126300Z",
     "start_time": "2023-12-25T06:29:30.191363Z"
    }
   },
   "outputs": [
    {
     "name": "stdout",
     "output_type": "stream",
     "text": [
      "rating_data [[    0     0     2]\n",
      " [    0     1     2]\n",
      " [    0     2     2]\n",
      " ...\n",
      " [12167  5241     5]\n",
      " [12167   852     5]\n",
      " [12167  5228     4]] (352598, 3)\n",
      "trust_data [[    1  2275]\n",
      " [    1 12034]\n",
      " [    1  1922]\n",
      " ...\n",
      " [12165  4215]\n",
      " [12166  4816]\n",
      " [12167  3224]] (123187, 2)\n"
     ]
    }
   ],
   "source": [
    "rating_data = rating_data[np.argsort(rating_data[:,0])]\n",
    "trust_data = trust_data[np.argsort(trust_data[:,0])]\n",
    "print('rating_data', rating_data, rating_data.shape)\n",
    "print('trust_data', trust_data, trust_data.shape)"
   ]
  },
  {
   "cell_type": "code",
   "execution_count": 40,
   "id": "7092b24c",
   "metadata": {
    "ExecuteTime": {
     "end_time": "2023-12-25T06:29:30.248501900Z",
     "start_time": "2023-12-25T06:29:30.209120700Z"
    }
   },
   "outputs": [
    {
     "name": "stdout",
     "output_type": "stream",
     "text": [
      "trust max0 12167\n",
      "trust min0 1\n",
      "trust max1 12165\n",
      "trust min1 0\n",
      "unique trust0 7868\n",
      "unique trust1 7768\n"
     ]
    }
   ],
   "source": [
    "print('trust max0', np.max(trust_data[:, 0]))\n",
    "print('trust min0', np.min(trust_data[:, 0]))\n",
    "print('trust max1', np.max(trust_data[:, 1]))\n",
    "print('trust min1', np.min(trust_data[:, 1]))\n",
    "print('unique trust0', len(np.unique(trust_data[:, 0])))\n",
    "print('unique trust1', len(np.unique(trust_data[:, 1])))"
   ]
  },
  {
   "cell_type": "code",
   "execution_count": 41,
   "id": "73c407d7",
   "metadata": {
    "ExecuteTime": {
     "end_time": "2023-12-25T06:29:30.248501900Z",
     "start_time": "2023-12-25T06:29:30.219236500Z"
    }
   },
   "outputs": [
    {
     "name": "stdout",
     "output_type": "stream",
     "text": [
      "rating max0 12167\n",
      "rating min0 0\n",
      "rating max1 11282\n",
      "rating min1 0\n",
      "unique rating0 12168\n",
      "unique rating1 11283\n"
     ]
    }
   ],
   "source": [
    "print('rating max0', np.max(rating_data[:, 0]))\n",
    "print('rating min0', np.min(rating_data[:, 0]))\n",
    "print('rating max1', np.max(rating_data[:, 1]))\n",
    "print('rating min1', np.min(rating_data[:, 1]))\n",
    "print('unique rating0', len(np.unique(rating_data[:, 0])))\n",
    "print('unique rating1', len(np.unique(rating_data[:, 1])))"
   ]
  },
  {
   "cell_type": "code",
   "execution_count": 42,
   "id": "92cd3aa0",
   "metadata": {
    "ExecuteTime": {
     "end_time": "2023-12-25T06:29:30.262047600Z",
     "start_time": "2023-12-25T06:29:30.241520700Z"
    }
   },
   "outputs": [
    {
     "name": "stdout",
     "output_type": "stream",
     "text": [
      "sparsity 0.002568242658848676\n"
     ]
    }
   ],
   "source": [
    "sparsity = rating_data.shape[0] / len(np.unique(rating_data[:, 0])) / len(np.unique(rating_data[:, 1]))\n",
    "print('sparsity', sparsity)"
   ]
  },
  {
   "cell_type": "code",
   "execution_count": 43,
   "id": "58c51bb9d070e05f",
   "metadata": {
    "ExecuteTime": {
     "end_time": "2023-12-25T06:29:30.309192100Z",
     "start_time": "2023-12-25T06:29:30.263043900Z"
    },
    "collapsed": false
   },
   "outputs": [
    {
     "name": "stdout",
     "output_type": "stream",
     "text": [
      "trust_sparsity 0.000832006035598055\n"
     ]
    }
   ],
   "source": [
    "trust_sparsity = trust_data.shape[0] / len(np.unique(rating_data[:, 0])) / len(np.unique(rating_data[:, 0]))\n",
    "print('trust_sparsity', trust_sparsity)"
   ]
  },
  {
   "cell_type": "code",
   "execution_count": 44,
   "id": "4b6b0643f83fb0d3",
   "metadata": {
    "ExecuteTime": {
     "end_time": "2023-12-25T06:29:31.334434400Z",
     "start_time": "2023-12-25T06:29:30.274253700Z"
    },
    "collapsed": false
   },
   "outputs": [],
   "source": [
    "np.savetxt(f'../../datasets/{data_name}/processed_rating{core}.txt', rating_data)\n",
    "np.savetxt(f'../../datasets/{data_name}/processed_trust{core}.txt', trust_data)"
   ]
  }
 ],
 "metadata": {
  "kernelspec": {
   "display_name": "usual",
   "language": "python",
   "name": "usual"
  },
  "language_info": {
   "codemirror_mode": {
    "name": "ipython",
    "version": 3
   },
   "file_extension": ".py",
   "mimetype": "text/x-python",
   "name": "python",
   "nbconvert_exporter": "python",
   "pygments_lexer": "ipython3",
   "version": "3.8.12"
  }
 },
 "nbformat": 4,
 "nbformat_minor": 5
}
