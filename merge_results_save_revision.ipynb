{
 "cells": [
  {
   "cell_type": "code",
   "execution_count": null,
   "metadata": {},
   "outputs": [],
   "source": [
    "import os\n",
    "from matplotlib import pyplot as plt\n",
    "import numpy as np\n",
    "from tqdm import tqdm\n",
    "import pickle"
   ]
  },
  {
   "cell_type": "code",
   "execution_count": null,
   "metadata": {},
   "outputs": [],
   "source": [
    "def interpolation(all_records):\n",
    "    min_loss = 0.\n",
    "    methods = list(all_records.keys())\n",
    "    for method in methods:\n",
    "        for x in all_records[method]:\n",
    "            min_loss = min(min_loss, np.min(x[:, 1]))\n",
    "    loss_diff = 0.01\n",
    "    losses = np.arange(min_loss, 0, loss_diff)\n",
    "    num_user_item_pairs = [len(all_records[methods[i]]) for i in range(len(methods))]\n",
    "\n",
    "    num_user_item_pair = max(num_user_item_pairs)\n",
    "    uplift_all = dict([(k, []) for k in methods])\n",
    "\n",
    "    for i in range(num_user_item_pair):\n",
    "        for method in methods:\n",
    "            record_idx = 0\n",
    "            print(f'Interpolating {method} {i}')\n",
    "            uplift, min_loss = all_records[method][i][0]\n",
    "            uplifts = np.zeros(len(losses))\n",
    "            for j in range(len(losses)):\n",
    "                if record_idx == 0:\n",
    "                    if losses[j] <= min_loss:\n",
    "                        uplifts[j] = uplift\n",
    "                    else:\n",
    "                        while losses[j] > all_records[method][i][record_idx][1]:\n",
    "                            record_idx += 1\n",
    "                        uplift_left = uplift\n",
    "                        uplift, min_loss = all_records[method][i][record_idx]\n",
    "                        uplifts[j] = uplift_left\n",
    "                else:\n",
    "                    if losses[j] <= min_loss:\n",
    "                        uplifts[j] = uplift_left\n",
    "                    else:\n",
    "                        while losses[j] > all_records[method][i][record_idx][1]:\n",
    "                            record_idx += 1\n",
    "                        uplift_left = uplift\n",
    "                        uplift, min_loss = all_records[method][i][record_idx]\n",
    "                        uplifts[j] = uplift_left\n",
    "            uplifts[-1], _ = all_records[method][i][-1]\n",
    "            uplift_all[method].append(uplifts)\n",
    "    return losses, uplift_all"
   ]
  },
  {
   "cell_type": "code",
   "execution_count": null,
   "metadata": {},
   "outputs": [],
   "source": [
    "ciao_data_dir = ['./metric/group_user_var2_ph_seed0/groundtruth/1.0_0_1000_1_1/ciao100.10.20.70.250.251.010.00.5/', './metric/group_user_var2_ph_seed0/groundtruth/1.0_0_1000_1_50/ciao100.10.20.70.250.251.010.00.5/', './metric/group_user_var2_ph_seed0/groundtruth/1.0_0_1000_1_75/ciao100.10.20.70.250.251.010.00.5/', './metric/group_user_var2_ph_seed0/groundtruth/1.0_0_1000_1_100/ciao100.10.20.70.250.251.010.00.5/']\n",
    "\n",
    "methods = ['spill_groundtruth', 'spill_diffnet', 'spill_mf', 'spill_lightgcn', 'spill_simulation_lightgcn_scale_revision', 'spill_simulation_mf_scale_revision', 'spill_simulation_diffnet_scale_revision', 'spill_gatv2_spill_var2']"
   ]
  },
  {
   "cell_type": "code",
   "execution_count": null,
   "metadata": {},
   "outputs": [],
   "source": [
    "ciao_losses, ciao_uplifts = [], []\n",
    "\n",
    "for dir in ciao_data_dir:\n",
    "    # methods = os.listdir(os.path.join(dir))\n",
    "    # methods = [method for method in methods if method not in exclude]\n",
    "    all_records = dict([(k, []) for k in methods])\n",
    "    for method in methods:\n",
    "        user_item_records = sorted(os.listdir(os.path.join(dir, method)))\n",
    "        for user_item_record in user_item_records:\n",
    "            if 'metric' in user_item_record:\n",
    "                file_dir = os.path.join(dir, method, user_item_record)\n",
    "                with open(file_dir, 'r') as f:\n",
    "                    lines = f.readlines()\n",
    "                    lines = [line.split(' ') for line in lines]\n",
    "                    lines = [[float(x) for x in line] for line in lines]\n",
    "                    lines = np.array(lines)\n",
    "                    all_records[method].append(lines[:, [2, 5]])\n",
    "    losses, uplift_all = interpolation(all_records)\n",
    "    ciao_losses.append(losses)\n",
    "    ciao_uplifts.append(uplift_all)"
   ]
  },
  {
   "cell_type": "code",
   "execution_count": null,
   "metadata": {},
   "outputs": [],
   "source": [
    "ciao_uplifts_save = []\n",
    "\n",
    "for i in range(4):\n",
    "    ciao_i = {}\n",
    "    for method in methods:\n",
    "        ciao_i[method] = np.mean(ciao_uplifts[i][method], axis=0)\n",
    "\n",
    "    ciao_uplifts_save.append(ciao_i)\n"
   ]
  },
  {
   "cell_type": "code",
   "execution_count": null,
   "metadata": {},
   "outputs": [],
   "source": [
    "ciao_uplifts_save"
   ]
  },
  {
   "cell_type": "code",
   "execution_count": null,
   "metadata": {},
   "outputs": [],
   "source": [
    "\n",
    "with open('plot_datas/ciao_losses.pkl', 'wb') as file:\n",
    "    pickle.dump(ciao_losses, file)\n",
    "\n",
    "with open('plot_datas/ciao_uplifts.pkl', 'wb') as file:\n",
    "    pickle.dump(ciao_uplifts_save, file)\n"
   ]
  }
 ],
 "metadata": {
  "kernelspec": {
   "display_name": "recsim",
   "language": "python",
   "name": "python3"
  },
  "language_info": {
   "codemirror_mode": {
    "name": "ipython",
    "version": 3
   },
   "file_extension": ".py",
   "mimetype": "text/x-python",
   "name": "python",
   "nbconvert_exporter": "python",
   "pygments_lexer": "ipython3",
   "version": "3.9.16"
  }
 },
 "nbformat": 4,
 "nbformat_minor": 2
}
